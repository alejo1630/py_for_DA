{
 "cells": [
  {
   "cell_type": "code",
   "execution_count": 1,
   "id": "b868d1e8-b4d0-4eab-ae65-d1517bdc7012",
   "metadata": {},
   "outputs": [],
   "source": [
    "import numpy as np"
   ]
  },
  {
   "cell_type": "markdown",
   "id": "48eab40d-1784-42b0-9495-c137f6091df4",
   "metadata": {
    "panel-layout": {
     "height": 60.59375,
     "visible": true,
     "width": 100
    }
   },
   "source": [
    "# List vs. Numpy Arrays"
   ]
  },
  {
   "cell_type": "code",
   "execution_count": 3,
   "id": "79789e54-117f-4bac-939e-a7d70e09db80",
   "metadata": {
    "panel-layout": {
     "height": 27.140625,
     "visible": true,
     "width": 100
    }
   },
   "outputs": [
    {
     "data": {
      "text/plain": [
       "array([     0,      1,      2, ..., 999997, 999998, 999999])"
      ]
     },
     "execution_count": 3,
     "metadata": {},
     "output_type": "execute_result"
    }
   ],
   "source": [
    "my_arr = np.arange(1_000_000)\n",
    "my_arr"
   ]
  },
  {
   "cell_type": "code",
   "execution_count": 4,
   "id": "a1e1eabc-51ba-41df-b1ee-b8e75b8d4c7f",
   "metadata": {
    "panel-layout": {
     "height": 220.609375,
     "visible": true,
     "width": 100
    }
   },
   "outputs": [
    {
     "data": {
      "text/plain": [
       "[0, 1, 2, 3, 4, 5, 6, 7, 8, 9]"
      ]
     },
     "execution_count": 4,
     "metadata": {},
     "output_type": "execute_result"
    }
   ],
   "source": [
    "my_list = list(range(1_000_000))\n",
    "my_list[:10]"
   ]
  },
  {
   "cell_type": "markdown",
   "id": "3f54b6ea-4566-4674-b242-abacd1f9ef99",
   "metadata": {
    "panel-layout": {
     "height": 51.140625,
     "visible": true,
     "width": 100
    }
   },
   "source": [
    "Now let's multiply each sequence by 2"
   ]
  },
  {
   "cell_type": "code",
   "execution_count": 6,
   "id": "b78d150b-4b06-4073-b4c9-cd4c660ddebd",
   "metadata": {},
   "outputs": [
    {
     "name": "stdout",
     "output_type": "stream",
     "text": [
      "1.9 ms ± 307 μs per loop (mean ± std. dev. of 7 runs, 100 loops each)\n"
     ]
    }
   ],
   "source": [
    "%timeit my_arr2 = my_arr * 2"
   ]
  },
  {
   "cell_type": "code",
   "execution_count": 7,
   "id": "9287b098-88c2-4490-8547-6040b5b06866",
   "metadata": {},
   "outputs": [
    {
     "name": "stdout",
     "output_type": "stream",
     "text": [
      "22 ms ± 6.03 ms per loop (mean ± std. dev. of 7 runs, 10 loops each)\n"
     ]
    }
   ],
   "source": [
    "%timeit my_list2 = my_list * 2"
   ]
  },
  {
   "cell_type": "markdown",
   "id": "46278c12-a5ac-4361-b1b5-60b50d507b0f",
   "metadata": {
    "panel-layout": {
     "height": 60.59375,
     "visible": true,
     "width": 100
    }
   },
   "source": [
    "# Multidimensional Array "
   ]
  },
  {
   "cell_type": "code",
   "execution_count": 9,
   "id": "21ff6821-cde7-4e22-8de6-6d33a382c3c9",
   "metadata": {
    "panel-layout": {
     "height": 44.28125,
     "visible": true,
     "width": 100
    }
   },
   "outputs": [
    {
     "data": {
      "text/plain": [
       "array([[ 1.5, -0.2,  3. ],\n",
       "       [ 0. , -3. ,  6.5]])"
      ]
     },
     "execution_count": 9,
     "metadata": {},
     "output_type": "execute_result"
    }
   ],
   "source": [
    "data = np.array([[1.5, -0.2, 3], [0, -3, 6.5]])\n",
    "data"
   ]
  },
  {
   "cell_type": "code",
   "execution_count": 10,
   "id": "7bba1a26-caa6-4588-9ebf-bf5a1b7691a7",
   "metadata": {
    "panel-layout": {
     "height": 44.28125,
     "visible": true,
     "width": 100
    }
   },
   "outputs": [
    {
     "data": {
      "text/plain": [
       "array([[ 15.,  -2.,  30.],\n",
       "       [  0., -30.,  65.]])"
      ]
     },
     "execution_count": 10,
     "metadata": {},
     "output_type": "execute_result"
    }
   ],
   "source": [
    "data * 10"
   ]
  },
  {
   "cell_type": "code",
   "execution_count": 11,
   "id": "f455e9a0-f913-46ea-a958-74ca3a0f6079",
   "metadata": {
    "panel-layout": {
     "height": 44.28125,
     "visible": true,
     "width": 100
    }
   },
   "outputs": [
    {
     "data": {
      "text/plain": [
       "array([[ 3. , -0.4,  6. ],\n",
       "       [ 0. , -6. , 13. ]])"
      ]
     },
     "execution_count": 11,
     "metadata": {},
     "output_type": "execute_result"
    }
   ],
   "source": [
    "data + data"
   ]
  },
  {
   "cell_type": "code",
   "execution_count": 12,
   "id": "eaef4911-2df1-45c9-b176-205478a5c841",
   "metadata": {
    "panel-layout": {
     "height": 27.140625,
     "visible": true,
     "width": 100
    }
   },
   "outputs": [
    {
     "data": {
      "text/plain": [
       "(2, 3)"
      ]
     },
     "execution_count": 12,
     "metadata": {},
     "output_type": "execute_result"
    }
   ],
   "source": [
    "data.shape"
   ]
  },
  {
   "cell_type": "code",
   "execution_count": 13,
   "id": "4db8e1c5-1b26-44c6-8ea7-ad6ce634ee93",
   "metadata": {
    "panel-layout": {
     "height": 27.140625,
     "visible": true,
     "width": 100
    }
   },
   "outputs": [
    {
     "data": {
      "text/plain": [
       "dtype('float64')"
      ]
     },
     "execution_count": 13,
     "metadata": {},
     "output_type": "execute_result"
    }
   ],
   "source": [
    "data.dtype"
   ]
  },
  {
   "cell_type": "markdown",
   "id": "beda084a-65f5-4185-9b3f-16bf47a75d0c",
   "metadata": {
    "panel-layout": {
     "height": 60.59375,
     "visible": true,
     "width": 100
    }
   },
   "source": [
    "# ndarrays"
   ]
  },
  {
   "cell_type": "code",
   "execution_count": 15,
   "id": "302b6868-03da-4eff-b7f4-5cdbc00df00a",
   "metadata": {
    "panel-layout": {
     "height": 0,
     "visible": true,
     "width": 100
    }
   },
   "outputs": [
    {
     "name": "stdout",
     "output_type": "stream",
     "text": [
      "[6, 7.5, 8, 0, 1]\n",
      "<class 'list'>\n"
     ]
    }
   ],
   "source": [
    "data1 = [6, 7.5, 8, 0, 1]\n",
    "print(data1)\n",
    "print(type(data1))"
   ]
  },
  {
   "cell_type": "code",
   "execution_count": 16,
   "id": "34d6e8b7-0f32-41ab-bd96-a9e347661f52",
   "metadata": {
    "panel-layout": {
     "height": 68.140625,
     "visible": true,
     "width": 100
    }
   },
   "outputs": [
    {
     "name": "stdout",
     "output_type": "stream",
     "text": [
      "<class 'numpy.ndarray'>\n"
     ]
    },
    {
     "data": {
      "text/plain": [
       "array([6. , 7.5, 8. , 0. , 1. ])"
      ]
     },
     "execution_count": 16,
     "metadata": {},
     "output_type": "execute_result"
    }
   ],
   "source": [
    "arr1 = np.array(data1)\n",
    "print(type(arr1))\n",
    "arr1"
   ]
  },
  {
   "cell_type": "code",
   "execution_count": 17,
   "id": "789b5a86-507b-473b-b365-1374b484eea4",
   "metadata": {
    "panel-layout": {
     "height": 44.28125,
     "visible": true,
     "width": 100
    }
   },
   "outputs": [
    {
     "data": {
      "text/plain": [
       "array([[1, 2, 3, 4],\n",
       "       [5, 6, 7, 8]])"
      ]
     },
     "execution_count": 17,
     "metadata": {},
     "output_type": "execute_result"
    }
   ],
   "source": [
    "data2 = [[1, 2, 3, 4], [5, 6, 7, 8]]\n",
    "arr2 = np.array(data2)\n",
    "arr2"
   ]
  },
  {
   "cell_type": "code",
   "execution_count": 18,
   "id": "ab49f147-5fdf-4375-9c31-5768ced89d25",
   "metadata": {
    "panel-layout": {
     "height": 27.140625,
     "visible": true,
     "width": 100
    }
   },
   "outputs": [
    {
     "data": {
      "text/plain": [
       "2"
      ]
     },
     "execution_count": 18,
     "metadata": {},
     "output_type": "execute_result"
    }
   ],
   "source": [
    "arr2.ndim"
   ]
  },
  {
   "cell_type": "code",
   "execution_count": 19,
   "id": "ecc76063-54d1-48f8-a636-e8a0adbe61bd",
   "metadata": {
    "panel-layout": {
     "height": 27.140625,
     "visible": true,
     "width": 100
    }
   },
   "outputs": [
    {
     "data": {
      "text/plain": [
       "(2, 4)"
      ]
     },
     "execution_count": 19,
     "metadata": {},
     "output_type": "execute_result"
    }
   ],
   "source": [
    "arr2.shape"
   ]
  },
  {
   "cell_type": "code",
   "execution_count": 20,
   "id": "86f12c84-7533-4a58-9da6-3f73d1b209c3",
   "metadata": {
    "panel-layout": {
     "height": 27.140625,
     "visible": true,
     "width": 100
    }
   },
   "outputs": [
    {
     "data": {
      "text/plain": [
       "dtype('float64')"
      ]
     },
     "execution_count": 20,
     "metadata": {},
     "output_type": "execute_result"
    }
   ],
   "source": [
    "arr1.dtype"
   ]
  },
  {
   "cell_type": "code",
   "execution_count": 21,
   "id": "f9476b2b-0f79-4356-8392-d8225bd0f8ed",
   "metadata": {
    "panel-layout": {
     "height": 27.140625,
     "visible": true,
     "width": 100
    }
   },
   "outputs": [
    {
     "data": {
      "text/plain": [
       "dtype('float64')"
      ]
     },
     "execution_count": 21,
     "metadata": {},
     "output_type": "execute_result"
    }
   ],
   "source": [
    "arr1.dtype"
   ]
  },
  {
   "cell_type": "code",
   "execution_count": 22,
   "id": "66f91cad-4de3-41ea-8522-545d35477dc0",
   "metadata": {
    "panel-layout": {
     "height": 27.140625,
     "visible": true,
     "width": 100
    }
   },
   "outputs": [
    {
     "name": "stdout",
     "output_type": "stream",
     "text": [
      "<U32\n"
     ]
    },
    {
     "data": {
      "text/plain": [
       "array(['1', '2', 'hola', '3.4'], dtype='<U32')"
      ]
     },
     "execution_count": 22,
     "metadata": {},
     "output_type": "execute_result"
    }
   ],
   "source": [
    "prueba = np.array([1, 2, \"hola\", 3.4])\n",
    "print(prueba.dtype)\n",
    "prueba"
   ]
  },
  {
   "cell_type": "code",
   "execution_count": 23,
   "id": "646cf360-d338-486b-9024-70d65dc8e9c3",
   "metadata": {},
   "outputs": [
    {
     "data": {
      "text/plain": [
       "array([0., 0., 0., 0., 0., 0., 0., 0., 0., 0.])"
      ]
     },
     "execution_count": 23,
     "metadata": {},
     "output_type": "execute_result"
    }
   ],
   "source": [
    "np.zeros(10)"
   ]
  },
  {
   "cell_type": "code",
   "execution_count": 24,
   "id": "5f40d13a-3694-48d5-958c-b7daea9e307a",
   "metadata": {},
   "outputs": [
    {
     "data": {
      "text/plain": [
       "array([[0., 0., 0., 0., 0., 0.],\n",
       "       [0., 0., 0., 0., 0., 0.],\n",
       "       [0., 0., 0., 0., 0., 0.]])"
      ]
     },
     "execution_count": 24,
     "metadata": {},
     "output_type": "execute_result"
    }
   ],
   "source": [
    "np.zeros((3, 6))"
   ]
  },
  {
   "cell_type": "code",
   "execution_count": 25,
   "id": "2165d7d1-ec45-4646-b0f3-7bffa478b3f8",
   "metadata": {},
   "outputs": [
    {
     "data": {
      "text/plain": [
       "array([[[1., 1., 1., 1., 1.],\n",
       "        [1., 1., 1., 1., 1.],\n",
       "        [1., 1., 1., 1., 1.]],\n",
       "\n",
       "       [[1., 1., 1., 1., 1.],\n",
       "        [1., 1., 1., 1., 1.],\n",
       "        [1., 1., 1., 1., 1.]]])"
      ]
     },
     "execution_count": 25,
     "metadata": {},
     "output_type": "execute_result"
    }
   ],
   "source": [
    "np.ones((2, 3, 5))"
   ]
  },
  {
   "cell_type": "code",
   "execution_count": 26,
   "id": "1b351eee-9d8f-463f-8332-29c0ec6aa734",
   "metadata": {},
   "outputs": [
    {
     "data": {
      "text/plain": [
       "array([[[1.11179438e-311, 2.86558075e-322],\n",
       "        [0.00000000e+000, 0.00000000e+000],\n",
       "        [1.01855798e-312, 5.74084271e+169]],\n",
       "\n",
       "       [[4.96394103e-090, 2.32002835e-056],\n",
       "        [3.61352979e+174, 4.08749126e-033],\n",
       "        [6.48224660e+170, 5.82471487e+257]]])"
      ]
     },
     "execution_count": 26,
     "metadata": {},
     "output_type": "execute_result"
    }
   ],
   "source": [
    "np.empty((2, 3, 2))"
   ]
  },
  {
   "cell_type": "code",
   "execution_count": 27,
   "id": "b08629d2-1020-4ff4-adb7-6fded1692dd9",
   "metadata": {},
   "outputs": [
    {
     "data": {
      "text/plain": [
       "array([ 0,  1,  2,  3,  4,  5,  6,  7,  8,  9, 10, 11, 12, 13, 14])"
      ]
     },
     "execution_count": 27,
     "metadata": {},
     "output_type": "execute_result"
    }
   ],
   "source": [
    "np.arange(15)"
   ]
  },
  {
   "cell_type": "code",
   "execution_count": 28,
   "id": "f240db66-f32b-451a-8952-b7ec5d4b4c08",
   "metadata": {},
   "outputs": [
    {
     "data": {
      "text/plain": [
       "array([[1, 1, 1, 1],\n",
       "       [1, 1, 1, 1]])"
      ]
     },
     "execution_count": 28,
     "metadata": {},
     "output_type": "execute_result"
    }
   ],
   "source": [
    "np.ones_like(arr2)"
   ]
  },
  {
   "cell_type": "code",
   "execution_count": 29,
   "id": "066c2e90-36ed-4ae8-9163-cf379695c7ee",
   "metadata": {},
   "outputs": [
    {
     "data": {
      "text/plain": [
       "array([[10, 10, 10],\n",
       "       [10, 10, 10]])"
      ]
     },
     "execution_count": 29,
     "metadata": {},
     "output_type": "execute_result"
    }
   ],
   "source": [
    "np.full((2, 3), fill_value = 10)"
   ]
  },
  {
   "cell_type": "code",
   "execution_count": 30,
   "id": "9cb74f2c-f2a0-4767-8e74-fa8c5c73e248",
   "metadata": {},
   "outputs": [
    {
     "data": {
      "text/plain": [
       "array([[1., 0., 0., 0., 0., 0., 0., 0., 0., 0.],\n",
       "       [0., 1., 0., 0., 0., 0., 0., 0., 0., 0.],\n",
       "       [0., 0., 1., 0., 0., 0., 0., 0., 0., 0.],\n",
       "       [0., 0., 0., 1., 0., 0., 0., 0., 0., 0.],\n",
       "       [0., 0., 0., 0., 1., 0., 0., 0., 0., 0.],\n",
       "       [0., 0., 0., 0., 0., 1., 0., 0., 0., 0.],\n",
       "       [0., 0., 0., 0., 0., 0., 1., 0., 0., 0.],\n",
       "       [0., 0., 0., 0., 0., 0., 0., 1., 0., 0.],\n",
       "       [0., 0., 0., 0., 0., 0., 0., 0., 1., 0.],\n",
       "       [0., 0., 0., 0., 0., 0., 0., 0., 0., 1.]])"
      ]
     },
     "execution_count": 30,
     "metadata": {},
     "output_type": "execute_result"
    }
   ],
   "source": [
    "np.eye(10)"
   ]
  },
  {
   "cell_type": "code",
   "execution_count": 31,
   "id": "8c39d711-3369-4646-8caf-76b54e8e5ccf",
   "metadata": {},
   "outputs": [
    {
     "data": {
      "text/plain": [
       "array([[1., 0., 0., 0., 0.],\n",
       "       [0., 1., 0., 0., 0.],\n",
       "       [0., 0., 1., 0., 0.],\n",
       "       [0., 0., 0., 1., 0.],\n",
       "       [0., 0., 0., 0., 1.]])"
      ]
     },
     "execution_count": 31,
     "metadata": {},
     "output_type": "execute_result"
    }
   ],
   "source": [
    "np.identity(5)"
   ]
  },
  {
   "cell_type": "markdown",
   "id": "4c3ef5dc-81c1-4323-80b1-8113f5068d51",
   "metadata": {},
   "source": [
    "# Data Types"
   ]
  },
  {
   "cell_type": "code",
   "execution_count": 33,
   "id": "afe0c874-b7f8-4589-aa39-e2a643d69ae6",
   "metadata": {},
   "outputs": [
    {
     "data": {
      "text/plain": [
       "dtype('float64')"
      ]
     },
     "execution_count": 33,
     "metadata": {},
     "output_type": "execute_result"
    }
   ],
   "source": [
    "arr1 = np.array([1, 2, 3], dtype = np.float64)\n",
    "arr1.dtype"
   ]
  },
  {
   "cell_type": "code",
   "execution_count": 34,
   "id": "6491306d-6510-424a-b961-a6a3195c13dd",
   "metadata": {},
   "outputs": [
    {
     "data": {
      "text/plain": [
       "dtype('int32')"
      ]
     },
     "execution_count": 34,
     "metadata": {},
     "output_type": "execute_result"
    }
   ],
   "source": [
    "arr2 = np.array([1, 2, 3], dtype = np.int32)\n",
    "arr2.dtype"
   ]
  },
  {
   "cell_type": "markdown",
   "id": "50758119-ac9b-4664-8a1f-69286f3fabcc",
   "metadata": {},
   "source": [
    "## Convert or Cast"
   ]
  },
  {
   "cell_type": "markdown",
   "id": "9cc83eef-4454-4197-8282-63a484b89b62",
   "metadata": {},
   "source": [
    "### float and int"
   ]
  },
  {
   "cell_type": "code",
   "execution_count": 37,
   "id": "96630602-5b41-4719-9099-6987571d0e32",
   "metadata": {},
   "outputs": [
    {
     "data": {
      "text/plain": [
       "dtype('int32')"
      ]
     },
     "execution_count": 37,
     "metadata": {},
     "output_type": "execute_result"
    }
   ],
   "source": [
    "arr = np.array([1, 2, 3, 4, 5])\n",
    "arr.dtype"
   ]
  },
  {
   "cell_type": "code",
   "execution_count": 38,
   "id": "ac4114f0-ded7-4f18-9234-a4d919a4ec58",
   "metadata": {},
   "outputs": [
    {
     "data": {
      "text/plain": [
       "array([1., 2., 3., 4., 5.])"
      ]
     },
     "execution_count": 38,
     "metadata": {},
     "output_type": "execute_result"
    }
   ],
   "source": [
    "float_arr = arr.astype(np.float64)\n",
    "float_arr"
   ]
  },
  {
   "cell_type": "code",
   "execution_count": 39,
   "id": "9923449e-497e-44c4-920c-266181423b2a",
   "metadata": {},
   "outputs": [
    {
     "data": {
      "text/plain": [
       "dtype('float64')"
      ]
     },
     "execution_count": 39,
     "metadata": {},
     "output_type": "execute_result"
    }
   ],
   "source": [
    "float_arr.dtype"
   ]
  },
  {
   "cell_type": "code",
   "execution_count": 40,
   "id": "5f6a1ba6-b9eb-4bbb-b8c8-73a45204391b",
   "metadata": {},
   "outputs": [
    {
     "data": {
      "text/plain": [
       "array([ 3.7, -1.2, -2.6,  0.5, 12.9, 10.2])"
      ]
     },
     "execution_count": 40,
     "metadata": {},
     "output_type": "execute_result"
    }
   ],
   "source": [
    "arr_float = np.array([3.7, -1.2, -2.6, 0.5, 12.9, 10.2])\n",
    "arr_float"
   ]
  },
  {
   "cell_type": "code",
   "execution_count": 41,
   "id": "dce9fe72-e5c4-4ce0-8207-3e2000f193b8",
   "metadata": {},
   "outputs": [
    {
     "data": {
      "text/plain": [
       "array([ 3, -1, -2,  0, 12, 10])"
      ]
     },
     "execution_count": 41,
     "metadata": {},
     "output_type": "execute_result"
    }
   ],
   "source": [
    "arr_float.astype(np.int32)"
   ]
  },
  {
   "cell_type": "markdown",
   "id": "8f22c55e-73df-42db-ae85-20e1364b430b",
   "metadata": {},
   "source": [
    "### strings"
   ]
  },
  {
   "cell_type": "code",
   "execution_count": 43,
   "id": "e2c93031-ef8e-433a-a811-81e8a560874e",
   "metadata": {},
   "outputs": [
    {
     "data": {
      "text/plain": [
       "array([b'1.25', b'-9.6', b'42'], dtype='|S4')"
      ]
     },
     "execution_count": 43,
     "metadata": {},
     "output_type": "execute_result"
    }
   ],
   "source": [
    "numeric_strings = np.array([\"1.25\", \"-9.6\", \"42\"], dtype = np.string_)\n",
    "numeric_strings"
   ]
  },
  {
   "cell_type": "code",
   "execution_count": 44,
   "id": "ec8fae88-51cc-44b3-951c-b04b39a75657",
   "metadata": {},
   "outputs": [
    {
     "data": {
      "text/plain": [
       "array([ 1.25, -9.6 , 42.  ])"
      ]
     },
     "execution_count": 44,
     "metadata": {},
     "output_type": "execute_result"
    }
   ],
   "source": [
    "numeric_strings.astype(float)"
   ]
  },
  {
   "cell_type": "markdown",
   "id": "6ef5abbb-50a0-48cf-a83b-8d8e90fe4360",
   "metadata": {},
   "source": [
    "# Arithmetic"
   ]
  },
  {
   "cell_type": "code",
   "execution_count": 46,
   "id": "84b8d2af-bdda-4c02-87d0-5716ce3788cf",
   "metadata": {},
   "outputs": [
    {
     "data": {
      "text/plain": [
       "array([[1, 2, 3],\n",
       "       [4, 5, 6]])"
      ]
     },
     "execution_count": 46,
     "metadata": {},
     "output_type": "execute_result"
    }
   ],
   "source": [
    "arr = np.array([[1, 2, 3], [4, 5, 6]])\n",
    "arr"
   ]
  },
  {
   "cell_type": "code",
   "execution_count": 47,
   "id": "d0bd2b2b-3f91-4efb-a40e-598e13df608e",
   "metadata": {},
   "outputs": [
    {
     "data": {
      "text/plain": [
       "array([[ 1,  4,  9],\n",
       "       [16, 25, 36]])"
      ]
     },
     "execution_count": 47,
     "metadata": {},
     "output_type": "execute_result"
    }
   ],
   "source": [
    "arr * arr"
   ]
  },
  {
   "cell_type": "code",
   "execution_count": 48,
   "id": "0c9d1a5b-0807-4a2f-850c-29e42305c36d",
   "metadata": {},
   "outputs": [
    {
     "data": {
      "text/plain": [
       "array([[0, 0, 0],\n",
       "       [0, 0, 0]])"
      ]
     },
     "execution_count": 48,
     "metadata": {},
     "output_type": "execute_result"
    }
   ],
   "source": [
    "arr - arr"
   ]
  },
  {
   "cell_type": "code",
   "execution_count": 49,
   "id": "60b5db85-f7aa-4240-a396-12cb4f44501e",
   "metadata": {},
   "outputs": [
    {
     "data": {
      "text/plain": [
       "array([[1.        , 0.5       , 0.33333333],\n",
       "       [0.25      , 0.2       , 0.16666667]])"
      ]
     },
     "execution_count": 49,
     "metadata": {},
     "output_type": "execute_result"
    }
   ],
   "source": [
    "1 / arr"
   ]
  },
  {
   "cell_type": "code",
   "execution_count": 50,
   "id": "ee998878-68b4-4609-b96a-174a2dfd80b5",
   "metadata": {},
   "outputs": [
    {
     "data": {
      "text/plain": [
       "array([[ 1,  4,  9],\n",
       "       [16, 25, 36]])"
      ]
     },
     "execution_count": 50,
     "metadata": {},
     "output_type": "execute_result"
    }
   ],
   "source": [
    "arr ** 2 "
   ]
  },
  {
   "cell_type": "code",
   "execution_count": 51,
   "id": "d406e87e-1fb0-421c-8c6c-fba21e8c4d46",
   "metadata": {},
   "outputs": [
    {
     "data": {
      "text/plain": [
       "array([[ 0,  4,  1],\n",
       "       [ 7,  2, 12]])"
      ]
     },
     "execution_count": 51,
     "metadata": {},
     "output_type": "execute_result"
    }
   ],
   "source": [
    "arr2 = np.array([[0, 4, 1], [7, 2, 12]])\n",
    "arr2"
   ]
  },
  {
   "cell_type": "code",
   "execution_count": 52,
   "id": "875697c7-ba4b-4c78-944c-49425713feac",
   "metadata": {},
   "outputs": [
    {
     "data": {
      "text/plain": [
       "array([[False,  True, False],\n",
       "       [ True, False,  True]])"
      ]
     },
     "execution_count": 52,
     "metadata": {},
     "output_type": "execute_result"
    }
   ],
   "source": [
    "arr2 > arr1"
   ]
  },
  {
   "cell_type": "markdown",
   "id": "c1c46ffd-eb28-4dd4-b9a4-44d483e529f5",
   "metadata": {},
   "source": [
    "# Basic Indexing and Slicing"
   ]
  },
  {
   "cell_type": "code",
   "execution_count": 54,
   "id": "8617207c-9f3e-4011-8ceb-983eb553e744",
   "metadata": {},
   "outputs": [
    {
     "data": {
      "text/plain": [
       "array([0, 1, 2, 3, 4, 5, 6, 7, 8, 9])"
      ]
     },
     "execution_count": 54,
     "metadata": {},
     "output_type": "execute_result"
    }
   ],
   "source": [
    "arr = np.arange(10)\n",
    "arr"
   ]
  },
  {
   "cell_type": "code",
   "execution_count": 55,
   "id": "ecfbf077-ebfa-4158-bc94-12448f3e366a",
   "metadata": {},
   "outputs": [
    {
     "data": {
      "text/plain": [
       "5"
      ]
     },
     "execution_count": 55,
     "metadata": {},
     "output_type": "execute_result"
    }
   ],
   "source": [
    "arr[5]"
   ]
  },
  {
   "cell_type": "code",
   "execution_count": 56,
   "id": "dd7a2488-084d-40e0-bf9f-5baca3b0b601",
   "metadata": {},
   "outputs": [
    {
     "data": {
      "text/plain": [
       "array([5, 6, 7])"
      ]
     },
     "execution_count": 56,
     "metadata": {},
     "output_type": "execute_result"
    }
   ],
   "source": [
    "arr[5:8]"
   ]
  },
  {
   "cell_type": "code",
   "execution_count": 57,
   "id": "9c2dd2d3-c53c-447d-9519-161ab10e3ab0",
   "metadata": {},
   "outputs": [
    {
     "data": {
      "text/plain": [
       "array([ 0,  1,  2,  3,  4, 12, 12, 12,  8,  9])"
      ]
     },
     "execution_count": 57,
     "metadata": {},
     "output_type": "execute_result"
    }
   ],
   "source": [
    "arr[5:8] = 12\n",
    "arr"
   ]
  },
  {
   "cell_type": "markdown",
   "id": "901383a4-2ea5-4f6c-8144-5933bbdeb3bd",
   "metadata": {},
   "source": [
    "Array Slices are views on the original array"
   ]
  },
  {
   "cell_type": "code",
   "execution_count": 59,
   "id": "23455311-ff28-4d82-b383-536b98f23574",
   "metadata": {},
   "outputs": [
    {
     "data": {
      "text/plain": [
       "array([12, 12, 12])"
      ]
     },
     "execution_count": 59,
     "metadata": {},
     "output_type": "execute_result"
    }
   ],
   "source": [
    "arr_slice = arr[5:8]\n",
    "arr_slice"
   ]
  },
  {
   "cell_type": "code",
   "execution_count": 60,
   "id": "c88719fe-b836-4a83-bbf5-5c128c0df3a6",
   "metadata": {},
   "outputs": [
    {
     "data": {
      "text/plain": [
       "array([    0,     1,     2,     3,     4,    12, 12345,    12,     8,\n",
       "           9])"
      ]
     },
     "execution_count": 60,
     "metadata": {},
     "output_type": "execute_result"
    }
   ],
   "source": [
    "arr_slice[1] = 12345\n",
    "arr"
   ]
  },
  {
   "cell_type": "code",
   "execution_count": 61,
   "id": "974e438b-9cc6-4351-afe8-9ffef02b5cdf",
   "metadata": {},
   "outputs": [
    {
     "data": {
      "text/plain": [
       "array([ 0,  1,  2,  3,  4, 64, 64, 64,  8,  9])"
      ]
     },
     "execution_count": 61,
     "metadata": {},
     "output_type": "execute_result"
    }
   ],
   "source": [
    "arr_slice[:] = 64\n",
    "arr"
   ]
  },
  {
   "cell_type": "markdown",
   "id": "87282fcd-0a0c-4ffb-b676-ef7c04f95689",
   "metadata": {},
   "source": [
    "## Copy"
   ]
  },
  {
   "cell_type": "code",
   "execution_count": 63,
   "id": "1006a129-0a23-43c0-83b3-04367b5ad0fe",
   "metadata": {},
   "outputs": [
    {
     "data": {
      "text/plain": [
       "array([64, 64, 64])"
      ]
     },
     "execution_count": 63,
     "metadata": {},
     "output_type": "execute_result"
    }
   ],
   "source": [
    "arr_copy = arr[5:8].copy()\n",
    "arr_copy"
   ]
  },
  {
   "cell_type": "code",
   "execution_count": 64,
   "id": "808ddcf9-3a49-42e3-9223-985743fbd48f",
   "metadata": {},
   "outputs": [
    {
     "data": {
      "text/plain": [
       "array([64, 10, 64])"
      ]
     },
     "execution_count": 64,
     "metadata": {},
     "output_type": "execute_result"
    }
   ],
   "source": [
    "arr_copy[1] = 10\n",
    "arr_copy"
   ]
  },
  {
   "cell_type": "code",
   "execution_count": 65,
   "id": "ea8dbbfb-3b2e-405b-8838-80c5491a075d",
   "metadata": {},
   "outputs": [
    {
     "data": {
      "text/plain": [
       "array([ 0,  1,  2,  3,  4, 64, 64, 64,  8,  9])"
      ]
     },
     "execution_count": 65,
     "metadata": {},
     "output_type": "execute_result"
    }
   ],
   "source": [
    "arr"
   ]
  },
  {
   "cell_type": "markdown",
   "id": "e068c65e-3fde-479d-928d-339e244f065e",
   "metadata": {},
   "source": [
    "## Muldimensional"
   ]
  },
  {
   "cell_type": "code",
   "execution_count": 67,
   "id": "2317a4cf-6863-426e-86c0-0404f2af52ee",
   "metadata": {},
   "outputs": [
    {
     "data": {
      "text/plain": [
       "array([[1, 2, 3],\n",
       "       [4, 5, 6],\n",
       "       [7, 8, 9]])"
      ]
     },
     "execution_count": 67,
     "metadata": {},
     "output_type": "execute_result"
    }
   ],
   "source": [
    "arr2d = np.array([[1, 2, 3], [4, 5, 6], [7, 8, 9]])\n",
    "arr2d"
   ]
  },
  {
   "cell_type": "code",
   "execution_count": 68,
   "id": "80a43d3d-5f0a-4382-95a0-2c05fb42a551",
   "metadata": {},
   "outputs": [
    {
     "data": {
      "text/plain": [
       "array([7, 8, 9])"
      ]
     },
     "execution_count": 68,
     "metadata": {},
     "output_type": "execute_result"
    }
   ],
   "source": [
    "arr2d[2]"
   ]
  },
  {
   "cell_type": "code",
   "execution_count": 69,
   "id": "8c41efad-8f99-48da-bfed-829356a9bb07",
   "metadata": {},
   "outputs": [
    {
     "data": {
      "text/plain": [
       "3"
      ]
     },
     "execution_count": 69,
     "metadata": {},
     "output_type": "execute_result"
    }
   ],
   "source": [
    "arr2d[0][2]"
   ]
  },
  {
   "cell_type": "code",
   "execution_count": 70,
   "id": "62ce7d27-25d9-4723-a6b8-79589fa11360",
   "metadata": {},
   "outputs": [
    {
     "data": {
      "text/plain": [
       "3"
      ]
     },
     "execution_count": 70,
     "metadata": {},
     "output_type": "execute_result"
    }
   ],
   "source": [
    "arr2d[0, 2]"
   ]
  },
  {
   "cell_type": "code",
   "execution_count": 71,
   "id": "57d15776-6393-450a-a34a-14f148971366",
   "metadata": {},
   "outputs": [
    {
     "data": {
      "text/plain": [
       "array([[[ 1,  2,  3],\n",
       "        [ 4,  5,  6]],\n",
       "\n",
       "       [[ 7,  8,  9],\n",
       "        [10, 11, 12]]])"
      ]
     },
     "execution_count": 71,
     "metadata": {},
     "output_type": "execute_result"
    }
   ],
   "source": [
    "arr3d = np.array([[[1, 2, 3], [4, 5, 6]], [[7, 8, 9], [10, 11, 12]]])\n",
    "arr3d"
   ]
  },
  {
   "cell_type": "code",
   "execution_count": 72,
   "id": "3e25757b-8c66-4436-8e47-3e02b305e6a4",
   "metadata": {},
   "outputs": [
    {
     "data": {
      "text/plain": [
       "array([[1, 2, 3],\n",
       "       [4, 5, 6]])"
      ]
     },
     "execution_count": 72,
     "metadata": {},
     "output_type": "execute_result"
    }
   ],
   "source": [
    "arr3d[0]"
   ]
  },
  {
   "cell_type": "code",
   "execution_count": 73,
   "id": "20333e3c-9752-4252-874e-80a9532cabad",
   "metadata": {},
   "outputs": [],
   "source": [
    "old_values = arr3d[0].copy()\n",
    "arr3d[0] = 42"
   ]
  },
  {
   "cell_type": "code",
   "execution_count": 74,
   "id": "57237ae0-6503-419a-a282-0ba395296b83",
   "metadata": {},
   "outputs": [
    {
     "data": {
      "text/plain": [
       "array([[[42, 42, 42],\n",
       "        [42, 42, 42]],\n",
       "\n",
       "       [[ 7,  8,  9],\n",
       "        [10, 11, 12]]])"
      ]
     },
     "execution_count": 74,
     "metadata": {},
     "output_type": "execute_result"
    }
   ],
   "source": [
    "arr3d"
   ]
  },
  {
   "cell_type": "code",
   "execution_count": 75,
   "id": "71a645b6-5cb7-42cf-a110-f234f83b5b7f",
   "metadata": {},
   "outputs": [
    {
     "data": {
      "text/plain": [
       "array([[[ 1,  2,  3],\n",
       "        [ 4,  5,  6]],\n",
       "\n",
       "       [[ 7,  8,  9],\n",
       "        [10, 11, 12]]])"
      ]
     },
     "execution_count": 75,
     "metadata": {},
     "output_type": "execute_result"
    }
   ],
   "source": [
    "arr3d[0] = old_values\n",
    "arr3d"
   ]
  },
  {
   "cell_type": "code",
   "execution_count": 76,
   "id": "0a01ed66-f8b4-4479-87cf-786cb4ff226e",
   "metadata": {},
   "outputs": [
    {
     "data": {
      "text/plain": [
       "array([7, 8, 9])"
      ]
     },
     "execution_count": 76,
     "metadata": {},
     "output_type": "execute_result"
    }
   ],
   "source": [
    "arr3d[1, 0]"
   ]
  },
  {
   "cell_type": "code",
   "execution_count": 77,
   "id": "337cee65-4004-405d-9395-df19134b9590",
   "metadata": {},
   "outputs": [
    {
     "data": {
      "text/plain": [
       "array([[ 7,  8,  9],\n",
       "       [10, 11, 12]])"
      ]
     },
     "execution_count": 77,
     "metadata": {},
     "output_type": "execute_result"
    }
   ],
   "source": [
    "x = arr3d[1]\n",
    "x"
   ]
  },
  {
   "cell_type": "code",
   "execution_count": 78,
   "id": "e14d792b-725c-4580-bcd7-6d87900fb8aa",
   "metadata": {},
   "outputs": [
    {
     "data": {
      "text/plain": [
       "array([7, 8, 9])"
      ]
     },
     "execution_count": 78,
     "metadata": {},
     "output_type": "execute_result"
    }
   ],
   "source": [
    "x[0]"
   ]
  },
  {
   "cell_type": "code",
   "execution_count": 80,
   "id": "439a3f55-79e3-42ae-93a7-b46f0f2c635b",
   "metadata": {},
   "outputs": [
    {
     "data": {
      "text/plain": [
       "array([ 0,  1,  2,  3,  4, 64, 64, 64,  8,  9])"
      ]
     },
     "execution_count": 80,
     "metadata": {},
     "output_type": "execute_result"
    }
   ],
   "source": [
    "arr"
   ]
  },
  {
   "cell_type": "code",
   "execution_count": 82,
   "id": "8419dfa6-d096-4a5b-ae90-7e1ff5bc2f72",
   "metadata": {},
   "outputs": [
    {
     "data": {
      "text/plain": [
       "array([ 1,  2,  3,  4, 64])"
      ]
     },
     "execution_count": 82,
     "metadata": {},
     "output_type": "execute_result"
    }
   ],
   "source": [
    "arr[1:6]"
   ]
  },
  {
   "cell_type": "code",
   "execution_count": 86,
   "id": "bd17bb41-4151-40b2-b746-367b6e73e54f",
   "metadata": {},
   "outputs": [
    {
     "data": {
      "text/plain": [
       "array([[1, 2, 3],\n",
       "       [4, 5, 6],\n",
       "       [7, 8, 9]])"
      ]
     },
     "execution_count": 86,
     "metadata": {},
     "output_type": "execute_result"
    }
   ],
   "source": [
    "arr2d"
   ]
  },
  {
   "cell_type": "code",
   "execution_count": 90,
   "id": "b6f30a08-c67a-485f-a40b-682e476cdbd0",
   "metadata": {},
   "outputs": [
    {
     "data": {
      "text/plain": [
       "array([[1, 2, 3],\n",
       "       [4, 5, 6]])"
      ]
     },
     "execution_count": 90,
     "metadata": {},
     "output_type": "execute_result"
    }
   ],
   "source": [
    "arr2d[:2]"
   ]
  },
  {
   "cell_type": "code",
   "execution_count": 98,
   "id": "85384bd1-3da9-46a5-90a9-74d2f713785d",
   "metadata": {},
   "outputs": [
    {
     "data": {
      "text/plain": [
       "array([[2, 3],\n",
       "       [5, 6]])"
      ]
     },
     "execution_count": 98,
     "metadata": {},
     "output_type": "execute_result"
    }
   ],
   "source": [
    "arr2d[:2,1:]"
   ]
  },
  {
   "cell_type": "code",
   "execution_count": 102,
   "id": "3b50322b-b460-4f56-99c2-542997479658",
   "metadata": {},
   "outputs": [
    {
     "data": {
      "text/plain": [
       "array([4, 5])"
      ]
     },
     "execution_count": 102,
     "metadata": {},
     "output_type": "execute_result"
    }
   ],
   "source": [
    "lower_dim_slice = arr2d[1, :2]\n",
    "lower_dim_slice"
   ]
  },
  {
   "cell_type": "code",
   "execution_count": 106,
   "id": "d934598d-b5be-44f9-9bdb-2e10e17ce7ed",
   "metadata": {},
   "outputs": [
    {
     "data": {
      "text/plain": [
       "(2,)"
      ]
     },
     "execution_count": 106,
     "metadata": {},
     "output_type": "execute_result"
    }
   ],
   "source": [
    "lower_dim_slice.shape"
   ]
  },
  {
   "cell_type": "code",
   "execution_count": 112,
   "id": "883fae2a-19fd-45b2-b9d7-3173b91c4934",
   "metadata": {},
   "outputs": [
    {
     "data": {
      "text/plain": [
       "array([[1],\n",
       "       [4],\n",
       "       [7]])"
      ]
     },
     "execution_count": 112,
     "metadata": {},
     "output_type": "execute_result"
    }
   ],
   "source": [
    "arr2d[:, :1]"
   ]
  },
  {
   "cell_type": "code",
   "execution_count": 116,
   "id": "5b9317dd-6fe1-4441-8dc8-9e3f84d87beb",
   "metadata": {},
   "outputs": [
    {
     "data": {
      "text/plain": [
       "array([[1, 0, 0],\n",
       "       [4, 0, 0],\n",
       "       [7, 8, 9]])"
      ]
     },
     "execution_count": 116,
     "metadata": {},
     "output_type": "execute_result"
    }
   ],
   "source": [
    "arr2d[:2, 1:] = 0\n",
    "arr2d"
   ]
  },
  {
   "cell_type": "markdown",
   "id": "552848b7-f906-43ed-aa2d-586c5a4ed029",
   "metadata": {},
   "source": [
    "## Boolean Indexing"
   ]
  },
  {
   "cell_type": "code",
   "execution_count": 152,
   "id": "3639ec44-1c7e-4fc9-940f-93990680a6df",
   "metadata": {},
   "outputs": [
    {
     "data": {
      "text/plain": [
       "array(['Bob', 'Joe', 'Will', 'Bob', 'Will', 'Joe', 'Joe'], dtype='<U4')"
      ]
     },
     "execution_count": 152,
     "metadata": {},
     "output_type": "execute_result"
    }
   ],
   "source": [
    "names  = np.array([\"Bob\", \"Joe\", \"Will\", \"Bob\", \"Will\", \"Joe\", \"Joe\"])\n",
    "names"
   ]
  },
  {
   "cell_type": "code",
   "execution_count": 154,
   "id": "eeaad0a0-12bc-4144-a946-305ac413ad52",
   "metadata": {},
   "outputs": [
    {
     "data": {
      "text/plain": [
       "array([[  4,   7],\n",
       "       [  0,   2],\n",
       "       [ -5,   6],\n",
       "       [  0,   0],\n",
       "       [  1,   2],\n",
       "       [-12,  -4],\n",
       "       [  3,   4]])"
      ]
     },
     "execution_count": 154,
     "metadata": {},
     "output_type": "execute_result"
    }
   ],
   "source": [
    "data = np.array([[4, 7], [0, 2], [-5, 6], [0, 0], [1, 2], [-12, -4], [3, 4]])\n",
    "data"
   ]
  },
  {
   "cell_type": "code",
   "execution_count": 156,
   "id": "297b216c-12f9-45d0-9278-66903e839ffc",
   "metadata": {},
   "outputs": [
    {
     "data": {
      "text/plain": [
       "array([ True, False, False,  True, False, False, False])"
      ]
     },
     "execution_count": 156,
     "metadata": {},
     "output_type": "execute_result"
    }
   ],
   "source": [
    "names == \"Bob\""
   ]
  },
  {
   "cell_type": "code",
   "execution_count": 158,
   "id": "3183d00c-a41a-40fd-a2fd-39abfab7cee1",
   "metadata": {},
   "outputs": [
    {
     "data": {
      "text/plain": [
       "array([[4, 7],\n",
       "       [0, 0]])"
      ]
     },
     "execution_count": 158,
     "metadata": {},
     "output_type": "execute_result"
    }
   ],
   "source": [
    "data[names == \"Bob\"]"
   ]
  },
  {
   "cell_type": "code",
   "execution_count": 160,
   "id": "e1804b32-4a2b-49d8-a51f-38caf0ff5747",
   "metadata": {},
   "outputs": [
    {
     "data": {
      "text/plain": [
       "array([False,  True,  True, False,  True,  True,  True])"
      ]
     },
     "execution_count": 160,
     "metadata": {},
     "output_type": "execute_result"
    }
   ],
   "source": [
    "names != \"Bob\""
   ]
  },
  {
   "cell_type": "code",
   "execution_count": 162,
   "id": "2b822a21-b624-41ce-b9b8-eaab05a3b3a1",
   "metadata": {},
   "outputs": [
    {
     "data": {
      "text/plain": [
       "array([False,  True,  True, False,  True,  True,  True])"
      ]
     },
     "execution_count": 162,
     "metadata": {},
     "output_type": "execute_result"
    }
   ],
   "source": [
    "~(names == \"Bob\")"
   ]
  },
  {
   "cell_type": "code",
   "execution_count": 166,
   "id": "d19d3472-88d9-4b68-8a52-e43fc638119e",
   "metadata": {},
   "outputs": [
    {
     "data": {
      "text/plain": [
       "array([ True, False, False,  True, False, False, False])"
      ]
     },
     "execution_count": 166,
     "metadata": {},
     "output_type": "execute_result"
    }
   ],
   "source": [
    "cond = names == \"Bob\"\n",
    "cond"
   ]
  },
  {
   "cell_type": "code",
   "execution_count": 168,
   "id": "4df1cfcf-0a54-4385-9a21-01c4be9c8e89",
   "metadata": {},
   "outputs": [
    {
     "data": {
      "text/plain": [
       "array([[  0,   2],\n",
       "       [ -5,   6],\n",
       "       [  1,   2],\n",
       "       [-12,  -4],\n",
       "       [  3,   4]])"
      ]
     },
     "execution_count": 168,
     "metadata": {},
     "output_type": "execute_result"
    }
   ],
   "source": [
    "data[~cond]"
   ]
  },
  {
   "cell_type": "code",
   "execution_count": 170,
   "id": "fffdbbe3-6015-4e75-84fa-ae2f0949bc60",
   "metadata": {},
   "outputs": [
    {
     "data": {
      "text/plain": [
       "array([ True, False,  True,  True,  True, False, False])"
      ]
     },
     "execution_count": 170,
     "metadata": {},
     "output_type": "execute_result"
    }
   ],
   "source": [
    "mask = (names == \"Bob\") | (names == \"Will\")\n",
    "mask"
   ]
  },
  {
   "cell_type": "code",
   "execution_count": 172,
   "id": "81188f4b-7f4f-4ae7-abd8-f67003d03447",
   "metadata": {},
   "outputs": [
    {
     "data": {
      "text/plain": [
       "array([[ 4,  7],\n",
       "       [-5,  6],\n",
       "       [ 0,  0],\n",
       "       [ 1,  2]])"
      ]
     },
     "execution_count": 172,
     "metadata": {},
     "output_type": "execute_result"
    }
   ],
   "source": [
    "data[mask]"
   ]
  },
  {
   "cell_type": "code",
   "execution_count": 176,
   "id": "78b78454-0aa9-40dd-96ac-5fb529ecc01d",
   "metadata": {},
   "outputs": [
    {
     "data": {
      "text/plain": [
       "array([[4, 7],\n",
       "       [0, 2],\n",
       "       [0, 6],\n",
       "       [0, 0],\n",
       "       [1, 2],\n",
       "       [0, 0],\n",
       "       [3, 4]])"
      ]
     },
     "execution_count": 176,
     "metadata": {},
     "output_type": "execute_result"
    }
   ],
   "source": [
    "data[data < 0] = 0\n",
    "data"
   ]
  },
  {
   "cell_type": "code",
   "execution_count": 180,
   "id": "113cb074-dc86-4d8d-bf03-0adb8b9ce96e",
   "metadata": {},
   "outputs": [
    {
     "data": {
      "text/plain": [
       "array([[7, 7],\n",
       "       [0, 2],\n",
       "       [7, 7],\n",
       "       [7, 7],\n",
       "       [7, 7],\n",
       "       [0, 0],\n",
       "       [3, 4]])"
      ]
     },
     "execution_count": 180,
     "metadata": {},
     "output_type": "execute_result"
    }
   ],
   "source": [
    "data[names != \"Joe\"] = 7\n",
    "data"
   ]
  },
  {
   "cell_type": "markdown",
   "id": "da002820-d47e-4bee-abde-af3035db35b0",
   "metadata": {},
   "source": [
    "## Fancy Indexing"
   ]
  },
  {
   "cell_type": "code",
   "execution_count": 185,
   "id": "fa29bca1-6821-47b2-8241-ccd9da90849c",
   "metadata": {},
   "outputs": [
    {
     "data": {
      "text/plain": [
       "array([[0., 0., 0., 0.],\n",
       "       [0., 0., 0., 0.],\n",
       "       [0., 0., 0., 0.],\n",
       "       [0., 0., 0., 0.],\n",
       "       [0., 0., 0., 0.],\n",
       "       [0., 0., 0., 0.],\n",
       "       [0., 0., 0., 0.],\n",
       "       [0., 0., 0., 0.]])"
      ]
     },
     "execution_count": 185,
     "metadata": {},
     "output_type": "execute_result"
    }
   ],
   "source": [
    "arr = np.zeros((8, 4))\n",
    "arr"
   ]
  },
  {
   "cell_type": "code",
   "execution_count": 187,
   "id": "4452a60c-ae1f-4777-b559-5285d943c1d0",
   "metadata": {},
   "outputs": [
    {
     "data": {
      "text/plain": [
       "array([[0., 0., 0., 0.],\n",
       "       [1., 1., 1., 1.],\n",
       "       [2., 2., 2., 2.],\n",
       "       [3., 3., 3., 3.],\n",
       "       [4., 4., 4., 4.],\n",
       "       [5., 5., 5., 5.],\n",
       "       [6., 6., 6., 6.],\n",
       "       [7., 7., 7., 7.]])"
      ]
     },
     "execution_count": 187,
     "metadata": {},
     "output_type": "execute_result"
    }
   ],
   "source": [
    "for i in range(8):\n",
    "    arr[i] = i\n",
    "\n",
    "arr"
   ]
  },
  {
   "cell_type": "code",
   "execution_count": 189,
   "id": "26e29c56-1470-46b3-a1ec-f024909785a4",
   "metadata": {},
   "outputs": [
    {
     "data": {
      "text/plain": [
       "array([[4., 4., 4., 4.],\n",
       "       [3., 3., 3., 3.],\n",
       "       [0., 0., 0., 0.],\n",
       "       [6., 6., 6., 6.]])"
      ]
     },
     "execution_count": 189,
     "metadata": {},
     "output_type": "execute_result"
    }
   ],
   "source": [
    "arr[[4, 3, 0, 6]]"
   ]
  },
  {
   "cell_type": "code",
   "execution_count": 193,
   "id": "7c767061-505e-486f-9aad-a0651b82c0e0",
   "metadata": {},
   "outputs": [
    {
     "data": {
      "text/plain": [
       "array([[5., 5., 5., 5.],\n",
       "       [3., 3., 3., 3.],\n",
       "       [1., 1., 1., 1.]])"
      ]
     },
     "execution_count": 193,
     "metadata": {},
     "output_type": "execute_result"
    }
   ],
   "source": [
    "arr[[-3, -5, -7]]"
   ]
  },
  {
   "cell_type": "code",
   "execution_count": 201,
   "id": "c53b1420-b8e3-459a-a1df-5c629e431ebd",
   "metadata": {},
   "outputs": [
    {
     "data": {
      "text/plain": [
       "array([[ 0,  1,  2,  3],\n",
       "       [ 4,  5,  6,  7],\n",
       "       [ 8,  9, 10, 11],\n",
       "       [12, 13, 14, 15],\n",
       "       [16, 17, 18, 19],\n",
       "       [20, 21, 22, 23],\n",
       "       [24, 25, 26, 27],\n",
       "       [28, 29, 30, 31]])"
      ]
     },
     "execution_count": 201,
     "metadata": {},
     "output_type": "execute_result"
    }
   ],
   "source": [
    "arr = np.arange(32).reshape((8, 4))\n",
    "arr"
   ]
  },
  {
   "cell_type": "code",
   "execution_count": 205,
   "id": "186653ed-61b4-4193-9319-27bfc05e6b34",
   "metadata": {},
   "outputs": [
    {
     "data": {
      "text/plain": [
       "array([ 4, 23, 29, 10])"
      ]
     },
     "execution_count": 205,
     "metadata": {},
     "output_type": "execute_result"
    }
   ],
   "source": [
    "arr[[1, 5, 7, 2], [0, 3, 1, 2]]"
   ]
  },
  {
   "cell_type": "code",
   "execution_count": 207,
   "id": "bcbd6982-6467-41ca-babb-f9b3bca4ddf0",
   "metadata": {},
   "outputs": [
    {
     "data": {
      "text/plain": [
       "array([[ 0,  1,  2,  3],\n",
       "       [ 0,  5,  6,  7],\n",
       "       [ 8,  9,  0, 11],\n",
       "       [12, 13, 14, 15],\n",
       "       [16, 17, 18, 19],\n",
       "       [20, 21, 22,  0],\n",
       "       [24, 25, 26, 27],\n",
       "       [28,  0, 30, 31]])"
      ]
     },
     "execution_count": 207,
     "metadata": {},
     "output_type": "execute_result"
    }
   ],
   "source": [
    "arr[[1, 5, 7, 2], [0, 3, 1, 2]] = 0\n",
    "arr"
   ]
  },
  {
   "cell_type": "markdown",
   "id": "c0bfe616-6147-4937-874e-8f92d796d7da",
   "metadata": {},
   "source": [
    "## Transposing Arrays"
   ]
  },
  {
   "cell_type": "code",
   "execution_count": 213,
   "id": "344a9d8d-e432-426a-8401-739da8b6fa4b",
   "metadata": {},
   "outputs": [
    {
     "data": {
      "text/plain": [
       "array([[ 0,  1,  2,  3,  4],\n",
       "       [ 5,  6,  7,  8,  9],\n",
       "       [10, 11, 12, 13, 14]])"
      ]
     },
     "execution_count": 213,
     "metadata": {},
     "output_type": "execute_result"
    }
   ],
   "source": [
    "arr = np.arange(15).reshape((3, 5))\n",
    "arr"
   ]
  },
  {
   "cell_type": "code",
   "execution_count": 215,
   "id": "20fb063d-e9a4-41d8-b094-ee733d657b6c",
   "metadata": {},
   "outputs": [
    {
     "data": {
      "text/plain": [
       "array([[ 0,  5, 10],\n",
       "       [ 1,  6, 11],\n",
       "       [ 2,  7, 12],\n",
       "       [ 3,  8, 13],\n",
       "       [ 4,  9, 14]])"
      ]
     },
     "execution_count": 215,
     "metadata": {},
     "output_type": "execute_result"
    }
   ],
   "source": [
    "arr.T"
   ]
  },
  {
   "cell_type": "code",
   "execution_count": 217,
   "id": "146c07d3-242d-4449-904c-094d8748a732",
   "metadata": {},
   "outputs": [
    {
     "data": {
      "text/plain": [
       "array([[ 0,  1,  0],\n",
       "       [ 1,  2, -2],\n",
       "       [ 6,  3,  2],\n",
       "       [-1,  0, -1],\n",
       "       [ 1,  0,  1]])"
      ]
     },
     "execution_count": 217,
     "metadata": {},
     "output_type": "execute_result"
    }
   ],
   "source": [
    "arr = np.array([[0, 1, 0], [1, 2, -2], [6, 3, 2], [-1, 0, -1], [1, 0, 1]])\n",
    "arr"
   ]
  },
  {
   "cell_type": "code",
   "execution_count": 219,
   "id": "3441046e-2058-48f6-b410-d46d7f38212a",
   "metadata": {},
   "outputs": [
    {
     "data": {
      "text/plain": [
       "array([[39, 20, 12],\n",
       "       [20, 14,  2],\n",
       "       [12,  2, 10]])"
      ]
     },
     "execution_count": 219,
     "metadata": {},
     "output_type": "execute_result"
    }
   ],
   "source": [
    "np.dot(arr.T, arr)"
   ]
  },
  {
   "cell_type": "code",
   "execution_count": 221,
   "id": "77a74b6e-2dfc-437e-a74f-68cd714c01ba",
   "metadata": {},
   "outputs": [
    {
     "data": {
      "text/plain": [
       "array([[39, 20, 12],\n",
       "       [20, 14,  2],\n",
       "       [12,  2, 10]])"
      ]
     },
     "execution_count": 221,
     "metadata": {},
     "output_type": "execute_result"
    }
   ],
   "source": [
    "arr.T @ arr"
   ]
  },
  {
   "cell_type": "code",
   "execution_count": 223,
   "id": "8e0fcfe2-d58f-43e0-8d6c-2bfe6dcf9a0c",
   "metadata": {},
   "outputs": [
    {
     "data": {
      "text/plain": [
       "array([[ 0,  1,  0],\n",
       "       [ 1,  2, -2],\n",
       "       [ 6,  3,  2],\n",
       "       [-1,  0, -1],\n",
       "       [ 1,  0,  1]])"
      ]
     },
     "execution_count": 223,
     "metadata": {},
     "output_type": "execute_result"
    }
   ],
   "source": [
    "arr"
   ]
  },
  {
   "cell_type": "code",
   "execution_count": 227,
   "id": "5ce35bcc-2a17-4160-be7a-7dfb28729591",
   "metadata": {},
   "outputs": [
    {
     "data": {
      "text/plain": [
       "array([[ 0,  1,  6, -1,  1],\n",
       "       [ 1,  2,  3,  0,  0],\n",
       "       [ 0, -2,  2, -1,  1]])"
      ]
     },
     "execution_count": 227,
     "metadata": {},
     "output_type": "execute_result"
    }
   ],
   "source": [
    "arr.swapaxes(0, 1)"
   ]
  },
  {
   "cell_type": "code",
   "execution_count": 235,
   "id": "247c8f50-d829-4ba4-a149-7ff4217f9211",
   "metadata": {},
   "outputs": [
    {
     "data": {
      "text/plain": [
       "array([[ 0,  1,  6, -1,  1],\n",
       "       [ 1,  2,  3,  0,  0],\n",
       "       [ 0, -2,  2, -1,  1]])"
      ]
     },
     "execution_count": 235,
     "metadata": {},
     "output_type": "execute_result"
    }
   ],
   "source": [
    "arr.swapaxes(0, 1)"
   ]
  },
  {
   "cell_type": "markdown",
   "id": "e8e60397-ecf7-4cca-b42a-468f1cfd4ea1",
   "metadata": {},
   "source": [
    "# Pseudorandom Nunmber Generation"
   ]
  },
  {
   "cell_type": "code",
   "execution_count": 241,
   "id": "68966ab4-1e11-4d90-9b3a-a4242e9de092",
   "metadata": {},
   "outputs": [
    {
     "data": {
      "text/plain": [
       "array([[-0.14508108,  0.61349749, -0.81021735,  0.72399513],\n",
       "       [ 0.40386371, -0.65823103, -1.90758201,  1.12980059],\n",
       "       [-0.60915354, -1.2699877 , -1.53658382,  1.44439585],\n",
       "       [ 0.60228994, -1.07501727, -0.03185519,  0.34638277]])"
      ]
     },
     "execution_count": 241,
     "metadata": {},
     "output_type": "execute_result"
    }
   ],
   "source": [
    "samples = np.random.standard_normal(size = (4, 4))\n",
    "samples"
   ]
  },
  {
   "cell_type": "code",
   "execution_count": 243,
   "id": "54b8f302-b7c9-4b87-96a9-0c737915e47a",
   "metadata": {},
   "outputs": [],
   "source": [
    "from random import normalvariate"
   ]
  },
  {
   "cell_type": "code",
   "execution_count": 245,
   "id": "31c933e9-e937-4b3e-ac50-f99d273ccff9",
   "metadata": {},
   "outputs": [],
   "source": [
    "N = 1_000_000"
   ]
  },
  {
   "cell_type": "code",
   "execution_count": 249,
   "id": "d0f14c64-c1fc-4c73-b41b-c7924c82e806",
   "metadata": {},
   "outputs": [
    {
     "name": "stdout",
     "output_type": "stream",
     "text": [
      "1.34 s ± 131 ms per loop (mean ± std. dev. of 7 runs, 1 loop each)\n"
     ]
    },
    {
     "data": {
      "text/plain": [
       "array([[-0.14508108,  0.61349749, -0.81021735,  0.72399513],\n",
       "       [ 0.40386371, -0.65823103, -1.90758201,  1.12980059],\n",
       "       [-0.60915354, -1.2699877 , -1.53658382,  1.44439585],\n",
       "       [ 0.60228994, -1.07501727, -0.03185519,  0.34638277]])"
      ]
     },
     "execution_count": 249,
     "metadata": {},
     "output_type": "execute_result"
    }
   ],
   "source": [
    "%timeit samples = [normalvariate(0, 1) for _ in range (N)]\n",
    "samples"
   ]
  },
  {
   "cell_type": "code",
   "execution_count": 251,
   "id": "35fbf549-fa60-42a7-8d19-1e3546b2d7ac",
   "metadata": {},
   "outputs": [
    {
     "name": "stdout",
     "output_type": "stream",
     "text": [
      "39.2 ms ± 3.95 ms per loop (mean ± std. dev. of 7 runs, 10 loops each)\n"
     ]
    }
   ],
   "source": [
    "%timeit np.random.standard_normal(N)"
   ]
  },
  {
   "cell_type": "code",
   "execution_count": 253,
   "id": "8980c208-0c16-456d-9aee-246638b9e380",
   "metadata": {},
   "outputs": [
    {
     "data": {
      "text/plain": [
       "Generator(PCG64) at 0x20B822A8740"
      ]
     },
     "execution_count": 253,
     "metadata": {},
     "output_type": "execute_result"
    }
   ],
   "source": [
    "rng = np.random.default_rng(seed = 12345)\n",
    "rng"
   ]
  },
  {
   "cell_type": "code",
   "execution_count": 257,
   "id": "99c055a3-c052-4b0e-b6ae-2283e06add57",
   "metadata": {},
   "outputs": [
    {
     "data": {
      "text/plain": [
       "array([[-1.3677927 ,  0.6488928 ,  0.36105811],\n",
       "       [-1.95286306,  2.34740965,  0.96849691]])"
      ]
     },
     "execution_count": 257,
     "metadata": {},
     "output_type": "execute_result"
    }
   ],
   "source": [
    "data = rng.standard_normal((2, 3))\n",
    "data"
   ]
  },
  {
   "cell_type": "code",
   "execution_count": 259,
   "id": "f7ed6e39-ec8e-4439-8389-71cc15df85e9",
   "metadata": {},
   "outputs": [
    {
     "data": {
      "text/plain": [
       "numpy.random._generator.Generator"
      ]
     },
     "execution_count": 259,
     "metadata": {},
     "output_type": "execute_result"
    }
   ],
   "source": [
    "type(rng)"
   ]
  },
  {
   "cell_type": "markdown",
   "id": "029be2f1-ac18-4bda-8fa2-5d7e209618c6",
   "metadata": {},
   "source": [
    "# Universal Functions"
   ]
  },
  {
   "cell_type": "code",
   "execution_count": 264,
   "id": "ec5ef4d6-83fd-460b-ac49-7de1e396e9d1",
   "metadata": {},
   "outputs": [
    {
     "data": {
      "text/plain": [
       "array([0, 1, 2, 3, 4, 5, 6, 7, 8, 9])"
      ]
     },
     "execution_count": 264,
     "metadata": {},
     "output_type": "execute_result"
    }
   ],
   "source": [
    "arr = np.arange(10)\n",
    "arr"
   ]
  },
  {
   "cell_type": "code",
   "execution_count": 266,
   "id": "815b3cc0-77bb-4cbf-bedd-c093b7ee46d9",
   "metadata": {},
   "outputs": [
    {
     "data": {
      "text/plain": [
       "array([0.        , 1.        , 1.41421356, 1.73205081, 2.        ,\n",
       "       2.23606798, 2.44948974, 2.64575131, 2.82842712, 3.        ])"
      ]
     },
     "execution_count": 266,
     "metadata": {},
     "output_type": "execute_result"
    }
   ],
   "source": [
    "np.sqrt(arr)"
   ]
  },
  {
   "cell_type": "code",
   "execution_count": 268,
   "id": "579bf3d7-33fb-4677-add0-f90ffb8df327",
   "metadata": {},
   "outputs": [
    {
     "data": {
      "text/plain": [
       "array([1.00000000e+00, 2.71828183e+00, 7.38905610e+00, 2.00855369e+01,\n",
       "       5.45981500e+01, 1.48413159e+02, 4.03428793e+02, 1.09663316e+03,\n",
       "       2.98095799e+03, 8.10308393e+03])"
      ]
     },
     "execution_count": 268,
     "metadata": {},
     "output_type": "execute_result"
    }
   ],
   "source": [
    "np.exp(arr)"
   ]
  },
  {
   "cell_type": "code",
   "execution_count": 272,
   "id": "24ddc29b-5864-44a6-920a-56663ec58c1b",
   "metadata": {},
   "outputs": [
    {
     "data": {
      "text/plain": [
       "array([-0.75938718,  0.90219827, -0.46695317, -0.06068952,  0.78884434,\n",
       "       -1.25666813,  0.57585751,  1.39897899])"
      ]
     },
     "execution_count": 272,
     "metadata": {},
     "output_type": "execute_result"
    }
   ],
   "source": [
    "x = rng.standard_normal(8)\n",
    "x"
   ]
  },
  {
   "cell_type": "code",
   "execution_count": 274,
   "id": "9eac3634-4338-4f65-91e9-891075efc491",
   "metadata": {},
   "outputs": [
    {
     "data": {
      "text/plain": [
       "array([ 1.32229806, -0.29969852,  0.90291934, -1.62158273, -0.15818926,\n",
       "        0.44948393, -1.34360107, -0.08168759])"
      ]
     },
     "execution_count": 274,
     "metadata": {},
     "output_type": "execute_result"
    }
   ],
   "source": [
    "y = rng.standard_normal(8)\n",
    "y"
   ]
  },
  {
   "cell_type": "code",
   "execution_count": 276,
   "id": "1b87c740-ef9f-4917-819e-f0aac72281b5",
   "metadata": {},
   "outputs": [
    {
     "data": {
      "text/plain": [
       "array([ 1.32229806,  0.90219827,  0.90291934, -0.06068952,  0.78884434,\n",
       "        0.44948393,  0.57585751,  1.39897899])"
      ]
     },
     "execution_count": 276,
     "metadata": {},
     "output_type": "execute_result"
    }
   ],
   "source": [
    "np.maximum(x, y)"
   ]
  },
  {
   "cell_type": "code",
   "execution_count": 278,
   "id": "877c730a-978f-415e-8186-531e088ce872",
   "metadata": {},
   "outputs": [
    {
     "data": {
      "text/plain": [
       "array([ 8.62369966, 13.09079713,  3.88680672,  4.14316598, -4.79494157,\n",
       "       -6.04694143, -7.06146007])"
      ]
     },
     "execution_count": 278,
     "metadata": {},
     "output_type": "execute_result"
    }
   ],
   "source": [
    "arr = rng.standard_normal(7) * 5\n",
    "arr"
   ]
  },
  {
   "cell_type": "code",
   "execution_count": 280,
   "id": "d67efe5d-5723-49f2-aece-6b91c3a5a262",
   "metadata": {},
   "outputs": [],
   "source": [
    "remainder, whole_part = np.modf(arr)"
   ]
  },
  {
   "cell_type": "code",
   "execution_count": 282,
   "id": "154f6b49-eaf2-466b-ab54-149f4037c0b0",
   "metadata": {},
   "outputs": [
    {
     "data": {
      "text/plain": [
       "array([ 0.62369966,  0.09079713,  0.88680672,  0.14316598, -0.79494157,\n",
       "       -0.04694143, -0.06146007])"
      ]
     },
     "execution_count": 282,
     "metadata": {},
     "output_type": "execute_result"
    }
   ],
   "source": [
    "remainder"
   ]
  },
  {
   "cell_type": "code",
   "execution_count": 284,
   "id": "1fb08b85-b1e7-47e1-85f3-e64b7de1988e",
   "metadata": {},
   "outputs": [
    {
     "data": {
      "text/plain": [
       "array([ 8., 13.,  3.,  4., -4., -6., -7.])"
      ]
     },
     "execution_count": 284,
     "metadata": {},
     "output_type": "execute_result"
    }
   ],
   "source": [
    "whole_part"
   ]
  },
  {
   "cell_type": "code",
   "execution_count": 286,
   "id": "91c89567-1272-4e67-a41f-713b194ae283",
   "metadata": {},
   "outputs": [
    {
     "data": {
      "text/plain": [
       "array([0., 0., 0., 0., 0., 0., 0.])"
      ]
     },
     "execution_count": 286,
     "metadata": {},
     "output_type": "execute_result"
    }
   ],
   "source": [
    "out = np.zeros_like(arr)\n",
    "out"
   ]
  },
  {
   "cell_type": "code",
   "execution_count": 290,
   "id": "efff288f-e245-4c7e-acd2-cd99534089ef",
   "metadata": {},
   "outputs": [
    {
     "data": {
      "text/plain": [
       "array([ 9.62369966, 14.09079713,  4.88680672,  5.14316598, -3.79494157,\n",
       "       -5.04694143, -6.06146007])"
      ]
     },
     "execution_count": 290,
     "metadata": {},
     "output_type": "execute_result"
    }
   ],
   "source": [
    "np.add(arr, 1)"
   ]
  },
  {
   "cell_type": "code",
   "execution_count": 292,
   "id": "bca561bd-3c8f-41c3-981d-ae932b82d97b",
   "metadata": {},
   "outputs": [
    {
     "data": {
      "text/plain": [
       "array([ 9.62369966, 14.09079713,  4.88680672,  5.14316598, -3.79494157,\n",
       "       -5.04694143, -6.06146007])"
      ]
     },
     "execution_count": 292,
     "metadata": {},
     "output_type": "execute_result"
    }
   ],
   "source": [
    "np.add(arr, 1, out = out)"
   ]
  },
  {
   "cell_type": "code",
   "execution_count": 296,
   "id": "57a967ad-4d9e-4f54-a74d-af1db16a59a1",
   "metadata": {},
   "outputs": [
    {
     "data": {
      "text/plain": [
       "array([ 9.62369966, 14.09079713,  4.88680672,  5.14316598, -3.79494157,\n",
       "       -5.04694143, -6.06146007])"
      ]
     },
     "execution_count": 296,
     "metadata": {},
     "output_type": "execute_result"
    }
   ],
   "source": [
    "out"
   ]
  },
  {
   "cell_type": "markdown",
   "id": "3ea22aee-9d29-4a0a-8cc9-1d8666272964",
   "metadata": {},
   "source": [
    "# Array-Oriented Programming with Arrays"
   ]
  },
  {
   "cell_type": "code",
   "execution_count": 299,
   "id": "5ae8196b-5631-4492-9076-e64e88424d07",
   "metadata": {},
   "outputs": [
    {
     "data": {
      "text/plain": [
       "array([-5.0000000e+00, -4.9900000e+00, -4.9800000e+00, -4.9700000e+00,\n",
       "       -4.9600000e+00, -4.9500000e+00, -4.9400000e+00, -4.9300000e+00,\n",
       "       -4.9200000e+00, -4.9100000e+00, -4.9000000e+00, -4.8900000e+00,\n",
       "       -4.8800000e+00, -4.8700000e+00, -4.8600000e+00, -4.8500000e+00,\n",
       "       -4.8400000e+00, -4.8300000e+00, -4.8200000e+00, -4.8100000e+00,\n",
       "       -4.8000000e+00, -4.7900000e+00, -4.7800000e+00, -4.7700000e+00,\n",
       "       -4.7600000e+00, -4.7500000e+00, -4.7400000e+00, -4.7300000e+00,\n",
       "       -4.7200000e+00, -4.7100000e+00, -4.7000000e+00, -4.6900000e+00,\n",
       "       -4.6800000e+00, -4.6700000e+00, -4.6600000e+00, -4.6500000e+00,\n",
       "       -4.6400000e+00, -4.6300000e+00, -4.6200000e+00, -4.6100000e+00,\n",
       "       -4.6000000e+00, -4.5900000e+00, -4.5800000e+00, -4.5700000e+00,\n",
       "       -4.5600000e+00, -4.5500000e+00, -4.5400000e+00, -4.5300000e+00,\n",
       "       -4.5200000e+00, -4.5100000e+00, -4.5000000e+00, -4.4900000e+00,\n",
       "       -4.4800000e+00, -4.4700000e+00, -4.4600000e+00, -4.4500000e+00,\n",
       "       -4.4400000e+00, -4.4300000e+00, -4.4200000e+00, -4.4100000e+00,\n",
       "       -4.4000000e+00, -4.3900000e+00, -4.3800000e+00, -4.3700000e+00,\n",
       "       -4.3600000e+00, -4.3500000e+00, -4.3400000e+00, -4.3300000e+00,\n",
       "       -4.3200000e+00, -4.3100000e+00, -4.3000000e+00, -4.2900000e+00,\n",
       "       -4.2800000e+00, -4.2700000e+00, -4.2600000e+00, -4.2500000e+00,\n",
       "       -4.2400000e+00, -4.2300000e+00, -4.2200000e+00, -4.2100000e+00,\n",
       "       -4.2000000e+00, -4.1900000e+00, -4.1800000e+00, -4.1700000e+00,\n",
       "       -4.1600000e+00, -4.1500000e+00, -4.1400000e+00, -4.1300000e+00,\n",
       "       -4.1200000e+00, -4.1100000e+00, -4.1000000e+00, -4.0900000e+00,\n",
       "       -4.0800000e+00, -4.0700000e+00, -4.0600000e+00, -4.0500000e+00,\n",
       "       -4.0400000e+00, -4.0300000e+00, -4.0200000e+00, -4.0100000e+00,\n",
       "       -4.0000000e+00, -3.9900000e+00, -3.9800000e+00, -3.9700000e+00,\n",
       "       -3.9600000e+00, -3.9500000e+00, -3.9400000e+00, -3.9300000e+00,\n",
       "       -3.9200000e+00, -3.9100000e+00, -3.9000000e+00, -3.8900000e+00,\n",
       "       -3.8800000e+00, -3.8700000e+00, -3.8600000e+00, -3.8500000e+00,\n",
       "       -3.8400000e+00, -3.8300000e+00, -3.8200000e+00, -3.8100000e+00,\n",
       "       -3.8000000e+00, -3.7900000e+00, -3.7800000e+00, -3.7700000e+00,\n",
       "       -3.7600000e+00, -3.7500000e+00, -3.7400000e+00, -3.7300000e+00,\n",
       "       -3.7200000e+00, -3.7100000e+00, -3.7000000e+00, -3.6900000e+00,\n",
       "       -3.6800000e+00, -3.6700000e+00, -3.6600000e+00, -3.6500000e+00,\n",
       "       -3.6400000e+00, -3.6300000e+00, -3.6200000e+00, -3.6100000e+00,\n",
       "       -3.6000000e+00, -3.5900000e+00, -3.5800000e+00, -3.5700000e+00,\n",
       "       -3.5600000e+00, -3.5500000e+00, -3.5400000e+00, -3.5300000e+00,\n",
       "       -3.5200000e+00, -3.5100000e+00, -3.5000000e+00, -3.4900000e+00,\n",
       "       -3.4800000e+00, -3.4700000e+00, -3.4600000e+00, -3.4500000e+00,\n",
       "       -3.4400000e+00, -3.4300000e+00, -3.4200000e+00, -3.4100000e+00,\n",
       "       -3.4000000e+00, -3.3900000e+00, -3.3800000e+00, -3.3700000e+00,\n",
       "       -3.3600000e+00, -3.3500000e+00, -3.3400000e+00, -3.3300000e+00,\n",
       "       -3.3200000e+00, -3.3100000e+00, -3.3000000e+00, -3.2900000e+00,\n",
       "       -3.2800000e+00, -3.2700000e+00, -3.2600000e+00, -3.2500000e+00,\n",
       "       -3.2400000e+00, -3.2300000e+00, -3.2200000e+00, -3.2100000e+00,\n",
       "       -3.2000000e+00, -3.1900000e+00, -3.1800000e+00, -3.1700000e+00,\n",
       "       -3.1600000e+00, -3.1500000e+00, -3.1400000e+00, -3.1300000e+00,\n",
       "       -3.1200000e+00, -3.1100000e+00, -3.1000000e+00, -3.0900000e+00,\n",
       "       -3.0800000e+00, -3.0700000e+00, -3.0600000e+00, -3.0500000e+00,\n",
       "       -3.0400000e+00, -3.0300000e+00, -3.0200000e+00, -3.0100000e+00,\n",
       "       -3.0000000e+00, -2.9900000e+00, -2.9800000e+00, -2.9700000e+00,\n",
       "       -2.9600000e+00, -2.9500000e+00, -2.9400000e+00, -2.9300000e+00,\n",
       "       -2.9200000e+00, -2.9100000e+00, -2.9000000e+00, -2.8900000e+00,\n",
       "       -2.8800000e+00, -2.8700000e+00, -2.8600000e+00, -2.8500000e+00,\n",
       "       -2.8400000e+00, -2.8300000e+00, -2.8200000e+00, -2.8100000e+00,\n",
       "       -2.8000000e+00, -2.7900000e+00, -2.7800000e+00, -2.7700000e+00,\n",
       "       -2.7600000e+00, -2.7500000e+00, -2.7400000e+00, -2.7300000e+00,\n",
       "       -2.7200000e+00, -2.7100000e+00, -2.7000000e+00, -2.6900000e+00,\n",
       "       -2.6800000e+00, -2.6700000e+00, -2.6600000e+00, -2.6500000e+00,\n",
       "       -2.6400000e+00, -2.6300000e+00, -2.6200000e+00, -2.6100000e+00,\n",
       "       -2.6000000e+00, -2.5900000e+00, -2.5800000e+00, -2.5700000e+00,\n",
       "       -2.5600000e+00, -2.5500000e+00, -2.5400000e+00, -2.5300000e+00,\n",
       "       -2.5200000e+00, -2.5100000e+00, -2.5000000e+00, -2.4900000e+00,\n",
       "       -2.4800000e+00, -2.4700000e+00, -2.4600000e+00, -2.4500000e+00,\n",
       "       -2.4400000e+00, -2.4300000e+00, -2.4200000e+00, -2.4100000e+00,\n",
       "       -2.4000000e+00, -2.3900000e+00, -2.3800000e+00, -2.3700000e+00,\n",
       "       -2.3600000e+00, -2.3500000e+00, -2.3400000e+00, -2.3300000e+00,\n",
       "       -2.3200000e+00, -2.3100000e+00, -2.3000000e+00, -2.2900000e+00,\n",
       "       -2.2800000e+00, -2.2700000e+00, -2.2600000e+00, -2.2500000e+00,\n",
       "       -2.2400000e+00, -2.2300000e+00, -2.2200000e+00, -2.2100000e+00,\n",
       "       -2.2000000e+00, -2.1900000e+00, -2.1800000e+00, -2.1700000e+00,\n",
       "       -2.1600000e+00, -2.1500000e+00, -2.1400000e+00, -2.1300000e+00,\n",
       "       -2.1200000e+00, -2.1100000e+00, -2.1000000e+00, -2.0900000e+00,\n",
       "       -2.0800000e+00, -2.0700000e+00, -2.0600000e+00, -2.0500000e+00,\n",
       "       -2.0400000e+00, -2.0300000e+00, -2.0200000e+00, -2.0100000e+00,\n",
       "       -2.0000000e+00, -1.9900000e+00, -1.9800000e+00, -1.9700000e+00,\n",
       "       -1.9600000e+00, -1.9500000e+00, -1.9400000e+00, -1.9300000e+00,\n",
       "       -1.9200000e+00, -1.9100000e+00, -1.9000000e+00, -1.8900000e+00,\n",
       "       -1.8800000e+00, -1.8700000e+00, -1.8600000e+00, -1.8500000e+00,\n",
       "       -1.8400000e+00, -1.8300000e+00, -1.8200000e+00, -1.8100000e+00,\n",
       "       -1.8000000e+00, -1.7900000e+00, -1.7800000e+00, -1.7700000e+00,\n",
       "       -1.7600000e+00, -1.7500000e+00, -1.7400000e+00, -1.7300000e+00,\n",
       "       -1.7200000e+00, -1.7100000e+00, -1.7000000e+00, -1.6900000e+00,\n",
       "       -1.6800000e+00, -1.6700000e+00, -1.6600000e+00, -1.6500000e+00,\n",
       "       -1.6400000e+00, -1.6300000e+00, -1.6200000e+00, -1.6100000e+00,\n",
       "       -1.6000000e+00, -1.5900000e+00, -1.5800000e+00, -1.5700000e+00,\n",
       "       -1.5600000e+00, -1.5500000e+00, -1.5400000e+00, -1.5300000e+00,\n",
       "       -1.5200000e+00, -1.5100000e+00, -1.5000000e+00, -1.4900000e+00,\n",
       "       -1.4800000e+00, -1.4700000e+00, -1.4600000e+00, -1.4500000e+00,\n",
       "       -1.4400000e+00, -1.4300000e+00, -1.4200000e+00, -1.4100000e+00,\n",
       "       -1.4000000e+00, -1.3900000e+00, -1.3800000e+00, -1.3700000e+00,\n",
       "       -1.3600000e+00, -1.3500000e+00, -1.3400000e+00, -1.3300000e+00,\n",
       "       -1.3200000e+00, -1.3100000e+00, -1.3000000e+00, -1.2900000e+00,\n",
       "       -1.2800000e+00, -1.2700000e+00, -1.2600000e+00, -1.2500000e+00,\n",
       "       -1.2400000e+00, -1.2300000e+00, -1.2200000e+00, -1.2100000e+00,\n",
       "       -1.2000000e+00, -1.1900000e+00, -1.1800000e+00, -1.1700000e+00,\n",
       "       -1.1600000e+00, -1.1500000e+00, -1.1400000e+00, -1.1300000e+00,\n",
       "       -1.1200000e+00, -1.1100000e+00, -1.1000000e+00, -1.0900000e+00,\n",
       "       -1.0800000e+00, -1.0700000e+00, -1.0600000e+00, -1.0500000e+00,\n",
       "       -1.0400000e+00, -1.0300000e+00, -1.0200000e+00, -1.0100000e+00,\n",
       "       -1.0000000e+00, -9.9000000e-01, -9.8000000e-01, -9.7000000e-01,\n",
       "       -9.6000000e-01, -9.5000000e-01, -9.4000000e-01, -9.3000000e-01,\n",
       "       -9.2000000e-01, -9.1000000e-01, -9.0000000e-01, -8.9000000e-01,\n",
       "       -8.8000000e-01, -8.7000000e-01, -8.6000000e-01, -8.5000000e-01,\n",
       "       -8.4000000e-01, -8.3000000e-01, -8.2000000e-01, -8.1000000e-01,\n",
       "       -8.0000000e-01, -7.9000000e-01, -7.8000000e-01, -7.7000000e-01,\n",
       "       -7.6000000e-01, -7.5000000e-01, -7.4000000e-01, -7.3000000e-01,\n",
       "       -7.2000000e-01, -7.1000000e-01, -7.0000000e-01, -6.9000000e-01,\n",
       "       -6.8000000e-01, -6.7000000e-01, -6.6000000e-01, -6.5000000e-01,\n",
       "       -6.4000000e-01, -6.3000000e-01, -6.2000000e-01, -6.1000000e-01,\n",
       "       -6.0000000e-01, -5.9000000e-01, -5.8000000e-01, -5.7000000e-01,\n",
       "       -5.6000000e-01, -5.5000000e-01, -5.4000000e-01, -5.3000000e-01,\n",
       "       -5.2000000e-01, -5.1000000e-01, -5.0000000e-01, -4.9000000e-01,\n",
       "       -4.8000000e-01, -4.7000000e-01, -4.6000000e-01, -4.5000000e-01,\n",
       "       -4.4000000e-01, -4.3000000e-01, -4.2000000e-01, -4.1000000e-01,\n",
       "       -4.0000000e-01, -3.9000000e-01, -3.8000000e-01, -3.7000000e-01,\n",
       "       -3.6000000e-01, -3.5000000e-01, -3.4000000e-01, -3.3000000e-01,\n",
       "       -3.2000000e-01, -3.1000000e-01, -3.0000000e-01, -2.9000000e-01,\n",
       "       -2.8000000e-01, -2.7000000e-01, -2.6000000e-01, -2.5000000e-01,\n",
       "       -2.4000000e-01, -2.3000000e-01, -2.2000000e-01, -2.1000000e-01,\n",
       "       -2.0000000e-01, -1.9000000e-01, -1.8000000e-01, -1.7000000e-01,\n",
       "       -1.6000000e-01, -1.5000000e-01, -1.4000000e-01, -1.3000000e-01,\n",
       "       -1.2000000e-01, -1.1000000e-01, -1.0000000e-01, -9.0000000e-02,\n",
       "       -8.0000000e-02, -7.0000000e-02, -6.0000000e-02, -5.0000000e-02,\n",
       "       -4.0000000e-02, -3.0000000e-02, -2.0000000e-02, -1.0000000e-02,\n",
       "       -1.0658141e-13,  1.0000000e-02,  2.0000000e-02,  3.0000000e-02,\n",
       "        4.0000000e-02,  5.0000000e-02,  6.0000000e-02,  7.0000000e-02,\n",
       "        8.0000000e-02,  9.0000000e-02,  1.0000000e-01,  1.1000000e-01,\n",
       "        1.2000000e-01,  1.3000000e-01,  1.4000000e-01,  1.5000000e-01,\n",
       "        1.6000000e-01,  1.7000000e-01,  1.8000000e-01,  1.9000000e-01,\n",
       "        2.0000000e-01,  2.1000000e-01,  2.2000000e-01,  2.3000000e-01,\n",
       "        2.4000000e-01,  2.5000000e-01,  2.6000000e-01,  2.7000000e-01,\n",
       "        2.8000000e-01,  2.9000000e-01,  3.0000000e-01,  3.1000000e-01,\n",
       "        3.2000000e-01,  3.3000000e-01,  3.4000000e-01,  3.5000000e-01,\n",
       "        3.6000000e-01,  3.7000000e-01,  3.8000000e-01,  3.9000000e-01,\n",
       "        4.0000000e-01,  4.1000000e-01,  4.2000000e-01,  4.3000000e-01,\n",
       "        4.4000000e-01,  4.5000000e-01,  4.6000000e-01,  4.7000000e-01,\n",
       "        4.8000000e-01,  4.9000000e-01,  5.0000000e-01,  5.1000000e-01,\n",
       "        5.2000000e-01,  5.3000000e-01,  5.4000000e-01,  5.5000000e-01,\n",
       "        5.6000000e-01,  5.7000000e-01,  5.8000000e-01,  5.9000000e-01,\n",
       "        6.0000000e-01,  6.1000000e-01,  6.2000000e-01,  6.3000000e-01,\n",
       "        6.4000000e-01,  6.5000000e-01,  6.6000000e-01,  6.7000000e-01,\n",
       "        6.8000000e-01,  6.9000000e-01,  7.0000000e-01,  7.1000000e-01,\n",
       "        7.2000000e-01,  7.3000000e-01,  7.4000000e-01,  7.5000000e-01,\n",
       "        7.6000000e-01,  7.7000000e-01,  7.8000000e-01,  7.9000000e-01,\n",
       "        8.0000000e-01,  8.1000000e-01,  8.2000000e-01,  8.3000000e-01,\n",
       "        8.4000000e-01,  8.5000000e-01,  8.6000000e-01,  8.7000000e-01,\n",
       "        8.8000000e-01,  8.9000000e-01,  9.0000000e-01,  9.1000000e-01,\n",
       "        9.2000000e-01,  9.3000000e-01,  9.4000000e-01,  9.5000000e-01,\n",
       "        9.6000000e-01,  9.7000000e-01,  9.8000000e-01,  9.9000000e-01,\n",
       "        1.0000000e+00,  1.0100000e+00,  1.0200000e+00,  1.0300000e+00,\n",
       "        1.0400000e+00,  1.0500000e+00,  1.0600000e+00,  1.0700000e+00,\n",
       "        1.0800000e+00,  1.0900000e+00,  1.1000000e+00,  1.1100000e+00,\n",
       "        1.1200000e+00,  1.1300000e+00,  1.1400000e+00,  1.1500000e+00,\n",
       "        1.1600000e+00,  1.1700000e+00,  1.1800000e+00,  1.1900000e+00,\n",
       "        1.2000000e+00,  1.2100000e+00,  1.2200000e+00,  1.2300000e+00,\n",
       "        1.2400000e+00,  1.2500000e+00,  1.2600000e+00,  1.2700000e+00,\n",
       "        1.2800000e+00,  1.2900000e+00,  1.3000000e+00,  1.3100000e+00,\n",
       "        1.3200000e+00,  1.3300000e+00,  1.3400000e+00,  1.3500000e+00,\n",
       "        1.3600000e+00,  1.3700000e+00,  1.3800000e+00,  1.3900000e+00,\n",
       "        1.4000000e+00,  1.4100000e+00,  1.4200000e+00,  1.4300000e+00,\n",
       "        1.4400000e+00,  1.4500000e+00,  1.4600000e+00,  1.4700000e+00,\n",
       "        1.4800000e+00,  1.4900000e+00,  1.5000000e+00,  1.5100000e+00,\n",
       "        1.5200000e+00,  1.5300000e+00,  1.5400000e+00,  1.5500000e+00,\n",
       "        1.5600000e+00,  1.5700000e+00,  1.5800000e+00,  1.5900000e+00,\n",
       "        1.6000000e+00,  1.6100000e+00,  1.6200000e+00,  1.6300000e+00,\n",
       "        1.6400000e+00,  1.6500000e+00,  1.6600000e+00,  1.6700000e+00,\n",
       "        1.6800000e+00,  1.6900000e+00,  1.7000000e+00,  1.7100000e+00,\n",
       "        1.7200000e+00,  1.7300000e+00,  1.7400000e+00,  1.7500000e+00,\n",
       "        1.7600000e+00,  1.7700000e+00,  1.7800000e+00,  1.7900000e+00,\n",
       "        1.8000000e+00,  1.8100000e+00,  1.8200000e+00,  1.8300000e+00,\n",
       "        1.8400000e+00,  1.8500000e+00,  1.8600000e+00,  1.8700000e+00,\n",
       "        1.8800000e+00,  1.8900000e+00,  1.9000000e+00,  1.9100000e+00,\n",
       "        1.9200000e+00,  1.9300000e+00,  1.9400000e+00,  1.9500000e+00,\n",
       "        1.9600000e+00,  1.9700000e+00,  1.9800000e+00,  1.9900000e+00,\n",
       "        2.0000000e+00,  2.0100000e+00,  2.0200000e+00,  2.0300000e+00,\n",
       "        2.0400000e+00,  2.0500000e+00,  2.0600000e+00,  2.0700000e+00,\n",
       "        2.0800000e+00,  2.0900000e+00,  2.1000000e+00,  2.1100000e+00,\n",
       "        2.1200000e+00,  2.1300000e+00,  2.1400000e+00,  2.1500000e+00,\n",
       "        2.1600000e+00,  2.1700000e+00,  2.1800000e+00,  2.1900000e+00,\n",
       "        2.2000000e+00,  2.2100000e+00,  2.2200000e+00,  2.2300000e+00,\n",
       "        2.2400000e+00,  2.2500000e+00,  2.2600000e+00,  2.2700000e+00,\n",
       "        2.2800000e+00,  2.2900000e+00,  2.3000000e+00,  2.3100000e+00,\n",
       "        2.3200000e+00,  2.3300000e+00,  2.3400000e+00,  2.3500000e+00,\n",
       "        2.3600000e+00,  2.3700000e+00,  2.3800000e+00,  2.3900000e+00,\n",
       "        2.4000000e+00,  2.4100000e+00,  2.4200000e+00,  2.4300000e+00,\n",
       "        2.4400000e+00,  2.4500000e+00,  2.4600000e+00,  2.4700000e+00,\n",
       "        2.4800000e+00,  2.4900000e+00,  2.5000000e+00,  2.5100000e+00,\n",
       "        2.5200000e+00,  2.5300000e+00,  2.5400000e+00,  2.5500000e+00,\n",
       "        2.5600000e+00,  2.5700000e+00,  2.5800000e+00,  2.5900000e+00,\n",
       "        2.6000000e+00,  2.6100000e+00,  2.6200000e+00,  2.6300000e+00,\n",
       "        2.6400000e+00,  2.6500000e+00,  2.6600000e+00,  2.6700000e+00,\n",
       "        2.6800000e+00,  2.6900000e+00,  2.7000000e+00,  2.7100000e+00,\n",
       "        2.7200000e+00,  2.7300000e+00,  2.7400000e+00,  2.7500000e+00,\n",
       "        2.7600000e+00,  2.7700000e+00,  2.7800000e+00,  2.7900000e+00,\n",
       "        2.8000000e+00,  2.8100000e+00,  2.8200000e+00,  2.8300000e+00,\n",
       "        2.8400000e+00,  2.8500000e+00,  2.8600000e+00,  2.8700000e+00,\n",
       "        2.8800000e+00,  2.8900000e+00,  2.9000000e+00,  2.9100000e+00,\n",
       "        2.9200000e+00,  2.9300000e+00,  2.9400000e+00,  2.9500000e+00,\n",
       "        2.9600000e+00,  2.9700000e+00,  2.9800000e+00,  2.9900000e+00,\n",
       "        3.0000000e+00,  3.0100000e+00,  3.0200000e+00,  3.0300000e+00,\n",
       "        3.0400000e+00,  3.0500000e+00,  3.0600000e+00,  3.0700000e+00,\n",
       "        3.0800000e+00,  3.0900000e+00,  3.1000000e+00,  3.1100000e+00,\n",
       "        3.1200000e+00,  3.1300000e+00,  3.1400000e+00,  3.1500000e+00,\n",
       "        3.1600000e+00,  3.1700000e+00,  3.1800000e+00,  3.1900000e+00,\n",
       "        3.2000000e+00,  3.2100000e+00,  3.2200000e+00,  3.2300000e+00,\n",
       "        3.2400000e+00,  3.2500000e+00,  3.2600000e+00,  3.2700000e+00,\n",
       "        3.2800000e+00,  3.2900000e+00,  3.3000000e+00,  3.3100000e+00,\n",
       "        3.3200000e+00,  3.3300000e+00,  3.3400000e+00,  3.3500000e+00,\n",
       "        3.3600000e+00,  3.3700000e+00,  3.3800000e+00,  3.3900000e+00,\n",
       "        3.4000000e+00,  3.4100000e+00,  3.4200000e+00,  3.4300000e+00,\n",
       "        3.4400000e+00,  3.4500000e+00,  3.4600000e+00,  3.4700000e+00,\n",
       "        3.4800000e+00,  3.4900000e+00,  3.5000000e+00,  3.5100000e+00,\n",
       "        3.5200000e+00,  3.5300000e+00,  3.5400000e+00,  3.5500000e+00,\n",
       "        3.5600000e+00,  3.5700000e+00,  3.5800000e+00,  3.5900000e+00,\n",
       "        3.6000000e+00,  3.6100000e+00,  3.6200000e+00,  3.6300000e+00,\n",
       "        3.6400000e+00,  3.6500000e+00,  3.6600000e+00,  3.6700000e+00,\n",
       "        3.6800000e+00,  3.6900000e+00,  3.7000000e+00,  3.7100000e+00,\n",
       "        3.7200000e+00,  3.7300000e+00,  3.7400000e+00,  3.7500000e+00,\n",
       "        3.7600000e+00,  3.7700000e+00,  3.7800000e+00,  3.7900000e+00,\n",
       "        3.8000000e+00,  3.8100000e+00,  3.8200000e+00,  3.8300000e+00,\n",
       "        3.8400000e+00,  3.8500000e+00,  3.8600000e+00,  3.8700000e+00,\n",
       "        3.8800000e+00,  3.8900000e+00,  3.9000000e+00,  3.9100000e+00,\n",
       "        3.9200000e+00,  3.9300000e+00,  3.9400000e+00,  3.9500000e+00,\n",
       "        3.9600000e+00,  3.9700000e+00,  3.9800000e+00,  3.9900000e+00,\n",
       "        4.0000000e+00,  4.0100000e+00,  4.0200000e+00,  4.0300000e+00,\n",
       "        4.0400000e+00,  4.0500000e+00,  4.0600000e+00,  4.0700000e+00,\n",
       "        4.0800000e+00,  4.0900000e+00,  4.1000000e+00,  4.1100000e+00,\n",
       "        4.1200000e+00,  4.1300000e+00,  4.1400000e+00,  4.1500000e+00,\n",
       "        4.1600000e+00,  4.1700000e+00,  4.1800000e+00,  4.1900000e+00,\n",
       "        4.2000000e+00,  4.2100000e+00,  4.2200000e+00,  4.2300000e+00,\n",
       "        4.2400000e+00,  4.2500000e+00,  4.2600000e+00,  4.2700000e+00,\n",
       "        4.2800000e+00,  4.2900000e+00,  4.3000000e+00,  4.3100000e+00,\n",
       "        4.3200000e+00,  4.3300000e+00,  4.3400000e+00,  4.3500000e+00,\n",
       "        4.3600000e+00,  4.3700000e+00,  4.3800000e+00,  4.3900000e+00,\n",
       "        4.4000000e+00,  4.4100000e+00,  4.4200000e+00,  4.4300000e+00,\n",
       "        4.4400000e+00,  4.4500000e+00,  4.4600000e+00,  4.4700000e+00,\n",
       "        4.4800000e+00,  4.4900000e+00,  4.5000000e+00,  4.5100000e+00,\n",
       "        4.5200000e+00,  4.5300000e+00,  4.5400000e+00,  4.5500000e+00,\n",
       "        4.5600000e+00,  4.5700000e+00,  4.5800000e+00,  4.5900000e+00,\n",
       "        4.6000000e+00,  4.6100000e+00,  4.6200000e+00,  4.6300000e+00,\n",
       "        4.6400000e+00,  4.6500000e+00,  4.6600000e+00,  4.6700000e+00,\n",
       "        4.6800000e+00,  4.6900000e+00,  4.7000000e+00,  4.7100000e+00,\n",
       "        4.7200000e+00,  4.7300000e+00,  4.7400000e+00,  4.7500000e+00,\n",
       "        4.7600000e+00,  4.7700000e+00,  4.7800000e+00,  4.7900000e+00,\n",
       "        4.8000000e+00,  4.8100000e+00,  4.8200000e+00,  4.8300000e+00,\n",
       "        4.8400000e+00,  4.8500000e+00,  4.8600000e+00,  4.8700000e+00,\n",
       "        4.8800000e+00,  4.8900000e+00,  4.9000000e+00,  4.9100000e+00,\n",
       "        4.9200000e+00,  4.9300000e+00,  4.9400000e+00,  4.9500000e+00,\n",
       "        4.9600000e+00,  4.9700000e+00,  4.9800000e+00,  4.9900000e+00])"
      ]
     },
     "execution_count": 299,
     "metadata": {},
     "output_type": "execute_result"
    }
   ],
   "source": [
    "points = np.arange(-5, 5, 0.01)\n",
    "points"
   ]
  },
  {
   "cell_type": "code",
   "execution_count": 301,
   "id": "26506fe2-d71d-46cd-9f55-2cb320e924cc",
   "metadata": {},
   "outputs": [],
   "source": [
    "xs, ys = np.meshgrid(points, points)"
   ]
  },
  {
   "cell_type": "code",
   "execution_count": 305,
   "id": "5fb2c9f8-439f-427b-bdf3-eb561c077c6a",
   "metadata": {},
   "outputs": [
    {
     "data": {
      "text/plain": [
       "array([[-5.  , -4.99, -4.98, ...,  4.97,  4.98,  4.99],\n",
       "       [-5.  , -4.99, -4.98, ...,  4.97,  4.98,  4.99],\n",
       "       [-5.  , -4.99, -4.98, ...,  4.97,  4.98,  4.99],\n",
       "       ...,\n",
       "       [-5.  , -4.99, -4.98, ...,  4.97,  4.98,  4.99],\n",
       "       [-5.  , -4.99, -4.98, ...,  4.97,  4.98,  4.99],\n",
       "       [-5.  , -4.99, -4.98, ...,  4.97,  4.98,  4.99]])"
      ]
     },
     "execution_count": 305,
     "metadata": {},
     "output_type": "execute_result"
    }
   ],
   "source": [
    "xs"
   ]
  },
  {
   "cell_type": "code",
   "execution_count": 309,
   "id": "dafe62e3-1c78-4a1a-b780-0d4fb1164540",
   "metadata": {},
   "outputs": [
    {
     "data": {
      "text/plain": [
       "array([[-5.  , -5.  , -5.  , ..., -5.  , -5.  , -5.  ],\n",
       "       [-4.99, -4.99, -4.99, ..., -4.99, -4.99, -4.99],\n",
       "       [-4.98, -4.98, -4.98, ..., -4.98, -4.98, -4.98],\n",
       "       ...,\n",
       "       [ 4.97,  4.97,  4.97, ...,  4.97,  4.97,  4.97],\n",
       "       [ 4.98,  4.98,  4.98, ...,  4.98,  4.98,  4.98],\n",
       "       [ 4.99,  4.99,  4.99, ...,  4.99,  4.99,  4.99]])"
      ]
     },
     "execution_count": 309,
     "metadata": {},
     "output_type": "execute_result"
    }
   ],
   "source": [
    "ys"
   ]
  },
  {
   "cell_type": "code",
   "execution_count": 319,
   "id": "3887572a-6b10-4ad4-b100-53e75ba2027c",
   "metadata": {},
   "outputs": [
    {
     "data": {
      "text/plain": [
       "array([[7.07106781, 7.06400028, 7.05693985, ..., 7.04988652, 7.05693985,\n",
       "        7.06400028],\n",
       "       [7.06400028, 7.05692568, 7.04985815, ..., 7.04279774, 7.04985815,\n",
       "        7.05692568],\n",
       "       [7.05693985, 7.04985815, 7.04278354, ..., 7.03571603, 7.04278354,\n",
       "        7.04985815],\n",
       "       ...,\n",
       "       [7.04988652, 7.04279774, 7.03571603, ..., 7.0286414 , 7.03571603,\n",
       "        7.04279774],\n",
       "       [7.05693985, 7.04985815, 7.04278354, ..., 7.03571603, 7.04278354,\n",
       "        7.04985815],\n",
       "       [7.06400028, 7.05692568, 7.04985815, ..., 7.04279774, 7.04985815,\n",
       "        7.05692568]])"
      ]
     },
     "execution_count": 319,
     "metadata": {},
     "output_type": "execute_result"
    }
   ],
   "source": [
    "z = np.sqrt(xs ** 2 + ys** 2)\n",
    "z"
   ]
  },
  {
   "cell_type": "code",
   "execution_count": 321,
   "id": "f203535f-3695-4ee7-bf5f-417807d04eec",
   "metadata": {},
   "outputs": [],
   "source": [
    "import matplotlib.pyplot as plt"
   ]
  },
  {
   "cell_type": "code",
   "execution_count": 331,
   "id": "099aaafd-8ede-40c1-aee0-ca01d6b797bd",
   "metadata": {},
   "outputs": [
    {
     "name": "stderr",
     "output_type": "stream",
     "text": [
      "<>:3: SyntaxWarning: invalid escape sequence '\\s'\n",
      "<>:3: SyntaxWarning: invalid escape sequence '\\s'\n",
      "C:\\Users\\acast\\AppData\\Local\\Temp\\ipykernel_35788\\1108345370.py:3: SyntaxWarning: invalid escape sequence '\\s'\n",
      "  plt.title(\"Image plot of $\\sqrt{x^2 + y^2}$ for a grid of values\")\n"
     ]
    },
    {
     "data": {
      "image/png": "[encoded data removed]",
      "text/plain": [
       "<Figure size 640x480 with 2 Axes>"
      ]
     },
     "metadata": {},
     "output_type": "display_data"
    }
   ],
   "source": [
    "plt.imshow(z, cmap = plt.cm.gray, extent =  [-5, 5, -5, 5])\n",
    "plt.colorbar()\n",
    "plt.title(\"Image plot of $\\sqrt{x^2 + y^2}$ for a grid of values\")\n",
    "plt.show()"
   ]
  },
  {
   "cell_type": "markdown",
   "id": "279e42b7-b813-4526-91f7-4c3a1e1b0e61",
   "metadata": {},
   "source": [
    "## Expressing Conditional Logic as Array Operations"
   ]
  },
  {
   "cell_type": "code",
   "execution_count": 334,
   "id": "ff1d9b55-c064-41e8-9195-1360f0f97149",
   "metadata": {},
   "outputs": [
    {
     "data": {
      "text/plain": [
       "array([1.1, 1.2, 1.3, 1.4, 1.5])"
      ]
     },
     "execution_count": 334,
     "metadata": {},
     "output_type": "execute_result"
    }
   ],
   "source": [
    "xarr = np.array([1.1, 1.2, 1.3, 1.4, 1.5])\n",
    "xarr"
   ]
  },
  {
   "cell_type": "code",
   "execution_count": 338,
   "id": "0cef9086-a7fe-4180-9293-fd90aa2134b8",
   "metadata": {},
   "outputs": [
    {
     "data": {
      "text/plain": [
       "array([2.1, 2.2, 2.3, 2.4, 2.5])"
      ]
     },
     "execution_count": 338,
     "metadata": {},
     "output_type": "execute_result"
    }
   ],
   "source": [
    "yarr = np.array([2.1, 2.2, 2.3, 2.4, 2.5])\n",
    "yarr"
   ]
  },
  {
   "cell_type": "code",
   "execution_count": 342,
   "id": "c31ecf0b-716b-481b-a7a4-a3daba64ab2b",
   "metadata": {},
   "outputs": [
    {
     "data": {
      "text/plain": [
       "array([ True, False,  True,  True, False])"
      ]
     },
     "execution_count": 342,
     "metadata": {},
     "output_type": "execute_result"
    }
   ],
   "source": [
    "cond = np.array([True, False, True, True, False])\n",
    "cond"
   ]
  },
  {
   "cell_type": "code",
   "execution_count": 346,
   "id": "a3f78594-3f3e-43ae-819a-42e3758495a9",
   "metadata": {},
   "outputs": [
    {
     "data": {
      "text/plain": [
       "[1.1, 2.2, 1.3, 1.4, 2.5]"
      ]
     },
     "execution_count": 346,
     "metadata": {},
     "output_type": "execute_result"
    }
   ],
   "source": [
    "result = [(x if c else y) for x, y, c in zip(xarr, yarr, cond)]\n",
    "result"
   ]
  },
  {
   "cell_type": "code",
   "execution_count": 348,
   "id": "b7c2781e-437e-424d-a9e3-af558d684e1b",
   "metadata": {},
   "outputs": [
    {
     "data": {
      "text/plain": [
       "array([1.1, 2.2, 1.3, 1.4, 2.5])"
      ]
     },
     "execution_count": 348,
     "metadata": {},
     "output_type": "execute_result"
    }
   ],
   "source": [
    "result = np.where(cond, xarr, yarr)\n",
    "result"
   ]
  },
  {
   "cell_type": "code",
   "execution_count": 350,
   "id": "bbae6fe3-faee-4c1e-b4d0-969e82a55b4c",
   "metadata": {},
   "outputs": [
    {
     "data": {
      "text/plain": [
       "array([[ 0.54154683,  0.7519394 , -0.65876032, -1.22867499],\n",
       "       [ 0.25755777,  0.31290292, -0.13081169,  1.26998312],\n",
       "       [-0.09296246, -0.06615089, -1.10821447,  0.13595685],\n",
       "       [ 1.34707776,  0.06114402,  0.0709146 ,  0.43365454]])"
      ]
     },
     "execution_count": 350,
     "metadata": {},
     "output_type": "execute_result"
    }
   ],
   "source": [
    "arr = rng.standard_normal((4, 4))\n",
    "arr"
   ]
  },
  {
   "cell_type": "code",
   "execution_count": 352,
   "id": "e4966a1a-ca1d-4ab7-8e56-b6853dc9766f",
   "metadata": {},
   "outputs": [
    {
     "data": {
      "text/plain": [
       "array([[ True,  True, False, False],\n",
       "       [ True,  True, False,  True],\n",
       "       [False, False, False,  True],\n",
       "       [ True,  True,  True,  True]])"
      ]
     },
     "execution_count": 352,
     "metadata": {},
     "output_type": "execute_result"
    }
   ],
   "source": [
    "arr > 0"
   ]
  },
  {
   "cell_type": "code",
   "execution_count": 354,
   "id": "055fbd6b-da5a-4a52-add5-38ba9d0f8bc0",
   "metadata": {},
   "outputs": [
    {
     "data": {
      "text/plain": [
       "array([[ 2,  2, -2, -2],\n",
       "       [ 2,  2, -2,  2],\n",
       "       [-2, -2, -2,  2],\n",
       "       [ 2,  2,  2,  2]])"
      ]
     },
     "execution_count": 354,
     "metadata": {},
     "output_type": "execute_result"
    }
   ],
   "source": [
    "np.where(arr > 0, 2, -2)\n"
   ]
  },
  {
   "cell_type": "code",
   "execution_count": 356,
   "id": "88867136-9442-4704-a64a-37418c91b312",
   "metadata": {},
   "outputs": [
    {
     "data": {
      "text/plain": [
       "array([[ 2.        ,  2.        , -0.65876032, -1.22867499],\n",
       "       [ 2.        ,  2.        , -0.13081169,  2.        ],\n",
       "       [-0.09296246, -0.06615089, -1.10821447,  2.        ],\n",
       "       [ 2.        ,  2.        ,  2.        ,  2.        ]])"
      ]
     },
     "execution_count": 356,
     "metadata": {},
     "output_type": "execute_result"
    }
   ],
   "source": [
    "np.where(arr > 0, 2, arr)"
   ]
  },
  {
   "cell_type": "markdown",
   "id": "0f23d66e-d4e2-4624-aa33-adcdd18c353b",
   "metadata": {},
   "source": [
    "## Mathematical and Statistical Methods"
   ]
  },
  {
   "cell_type": "code",
   "execution_count": 360,
   "id": "132d6314-f0aa-4c9f-8448-3c4d11e4875a",
   "metadata": {},
   "outputs": [
    {
     "data": {
      "text/plain": [
       "array([[ 0.27748366,  0.53025239,  0.53672097,  0.61835001],\n",
       "       [-0.79501746,  0.30003095, -1.60270159,  0.26679883],\n",
       "       [-1.26162378, -0.07127081,  0.47404973, -0.41485376],\n",
       "       [ 0.0977165 , -1.64041784, -0.85725882,  0.68828179],\n",
       "       [-1.15452958,  0.65045239, -1.38835995, -0.90738246]])"
      ]
     },
     "execution_count": 360,
     "metadata": {},
     "output_type": "execute_result"
    }
   ],
   "source": [
    "arr = rng.standard_normal((5,4))\n",
    "arr"
   ]
  },
  {
   "cell_type": "code",
   "execution_count": 362,
   "id": "697f5463-0ec2-4166-98bc-b96ec67ad7c2",
   "metadata": {},
   "outputs": [
    {
     "data": {
      "text/plain": [
       "-0.2826639418754159"
      ]
     },
     "execution_count": 362,
     "metadata": {},
     "output_type": "execute_result"
    }
   ],
   "source": [
    "arr.mean()"
   ]
  },
  {
   "cell_type": "code",
   "execution_count": 364,
   "id": "cc4a3525-d3e0-4a0a-a6ec-ba2691550e47",
   "metadata": {},
   "outputs": [
    {
     "data": {
      "text/plain": [
       "-5.653278837508318"
      ]
     },
     "execution_count": 364,
     "metadata": {},
     "output_type": "execute_result"
    }
   ],
   "source": [
    "arr.sum()"
   ]
  },
  {
   "cell_type": "code",
   "execution_count": 366,
   "id": "4e965bb0-2a62-41ee-8c50-1b013ad75db2",
   "metadata": {},
   "outputs": [
    {
     "data": {
      "text/plain": [
       "array([ 0.49070176, -0.45772232, -0.31842465, -0.42791959, -0.6999549 ])"
      ]
     },
     "execution_count": 366,
     "metadata": {},
     "output_type": "execute_result"
    }
   ],
   "source": [
    "arr.mean(axis = 1)"
   ]
  },
  {
   "cell_type": "code",
   "execution_count": 368,
   "id": "f15a0b8b-80bb-4831-98b8-215bb4ffee41",
   "metadata": {},
   "outputs": [
    {
     "data": {
      "text/plain": [
       "array([-0.56719413, -0.04619058, -0.56750993,  0.05023888])"
      ]
     },
     "execution_count": 368,
     "metadata": {},
     "output_type": "execute_result"
    }
   ],
   "source": [
    "arr.mean(axis = 0)"
   ]
  },
  {
   "cell_type": "code",
   "execution_count": 370,
   "id": "aa616111-c634-4999-95cf-b79889e2c690",
   "metadata": {},
   "outputs": [],
   "source": [
    "arr = np.array([0, 1, 2, 3, 4, 5, 6, 7])"
   ]
  },
  {
   "cell_type": "code",
   "execution_count": 372,
   "id": "0fedd75c-1d0c-4853-8670-1871d5da7196",
   "metadata": {},
   "outputs": [
    {
     "data": {
      "text/plain": [
       "array([ 0,  1,  3,  6, 10, 15, 21, 28])"
      ]
     },
     "execution_count": 372,
     "metadata": {},
     "output_type": "execute_result"
    }
   ],
   "source": [
    "arr.cumsum()"
   ]
  },
  {
   "cell_type": "code",
   "execution_count": 376,
   "id": "4198d75a-0eea-40ba-9bea-b8140cc9ef37",
   "metadata": {},
   "outputs": [
    {
     "data": {
      "text/plain": [
       "array([[0, 1, 2],\n",
       "       [3, 4, 5],\n",
       "       [6, 7, 8]])"
      ]
     },
     "execution_count": 376,
     "metadata": {},
     "output_type": "execute_result"
    }
   ],
   "source": [
    "arr = np.array([[0, 1, 2], [3, 4, 5], [6, 7, 8]])\n",
    "arr"
   ]
  },
  {
   "cell_type": "code",
   "execution_count": 378,
   "id": "9e7c45bb-803c-4955-80ed-b35a5cc3609d",
   "metadata": {},
   "outputs": [
    {
     "data": {
      "text/plain": [
       "array([[ 0,  1,  2],\n",
       "       [ 3,  5,  7],\n",
       "       [ 9, 12, 15]])"
      ]
     },
     "execution_count": 378,
     "metadata": {},
     "output_type": "execute_result"
    }
   ],
   "source": [
    "arr.cumsum(axis = 0)"
   ]
  },
  {
   "cell_type": "code",
   "execution_count": 380,
   "id": "1ef951da-c1ce-4a54-8dd1-67a824f0684a",
   "metadata": {},
   "outputs": [
    {
     "data": {
      "text/plain": [
       "array([[ 0,  1,  3],\n",
       "       [ 3,  7, 12],\n",
       "       [ 6, 13, 21]])"
      ]
     },
     "execution_count": 380,
     "metadata": {},
     "output_type": "execute_result"
    }
   ],
   "source": [
    "arr.cumsum(axis = 1)"
   ]
  },
  {
   "cell_type": "markdown",
   "id": "9fa32009-cb97-42ef-b7ba-d5456db538b4",
   "metadata": {},
   "source": [
    "## Methods for Boolean Arrays"
   ]
  },
  {
   "cell_type": "code",
   "execution_count": 383,
   "id": "f6bf4ddd-b3ff-463a-bb27-ee570d82e40c",
   "metadata": {},
   "outputs": [
    {
     "data": {
      "text/plain": [
       "array([-1.09542531e+00,  7.14569494e-03,  5.34359903e-01, -1.06580785e+00,\n",
       "       -1.81472740e-01,  1.62195180e+00, -3.17391946e-01, -8.15814967e-01,\n",
       "        3.86579017e-01, -2.23638926e-01, -7.01690809e-01, -1.79571318e+00,\n",
       "        8.18325622e-01, -5.71032902e-01,  7.85525063e-04, -1.06364272e+00,\n",
       "        1.30171450e+00,  7.47872942e-01,  9.80875909e-01, -1.10418688e-01,\n",
       "        4.67918531e-01,  8.90607150e-01,  1.02300937e+00,  3.12383389e-01,\n",
       "       -6.19046857e-02, -3.59479647e-01, -7.48643984e-01, -9.65478907e-01,\n",
       "        3.60034657e-01, -2.44552532e-01, -1.99585661e+00, -1.55247617e-01,\n",
       "        1.06383087e+00, -2.75171567e-01, -1.85333593e+00, -1.24341928e-01,\n",
       "        7.84974522e-01,  2.01998597e-01, -4.28074443e-01,  1.84828890e+00,\n",
       "        1.89995289e+00, -9.84250348e-02,  8.13445440e-01,  3.92494389e-01,\n",
       "        7.81442900e-01,  1.45327152e+00,  8.20186045e-01,  8.77053446e-02,\n",
       "       -6.53505648e-01, -8.11886879e-01, -2.55381724e-02,  1.15818454e+00,\n",
       "        3.00520870e-01,  5.30566461e-02,  2.57271524e-01,  3.57428624e-02,\n",
       "        5.47236686e-01, -1.12296158e+00, -1.97524767e+00, -4.25150050e-01,\n",
       "       -1.14907382e+00,  1.61513805e+00, -1.58476860e-01, -2.52873345e-01,\n",
       "       -1.53815403e+00,  2.82086033e-01, -6.23612134e-01,  1.12182226e+00,\n",
       "        8.41221031e-01, -7.75896101e-01,  4.10716440e-01, -2.72241610e+00,\n",
       "       -6.73304799e-01,  1.24622153e+00,  7.90208028e-01,  1.75340888e-01,\n",
       "       -2.92946016e-02, -1.41951426e+00, -1.35996632e+00,  2.23411559e-01,\n",
       "        1.76177943e+00, -2.17088985e+00,  6.28488171e-01,  6.01196526e-01,\n",
       "        9.50757858e-01, -8.69246667e-01, -5.29007071e-01,  4.56840956e-02,\n",
       "       -1.02755181e+00, -1.22928930e+00, -8.83358472e-01, -7.08934637e-02,\n",
       "        3.74053351e-01, -2.45937384e-02,  7.72606583e-02, -6.83913218e-01,\n",
       "       -7.20837668e-01,  1.12062282e+00, -5.48141603e-02, -8.24137242e-02])"
      ]
     },
     "execution_count": 383,
     "metadata": {},
     "output_type": "execute_result"
    }
   ],
   "source": [
    "arr = rng.standard_normal(100)\n",
    "arr"
   ]
  },
  {
   "cell_type": "code",
   "execution_count": 385,
   "id": "673537c0-b1b5-4233-9dba-8a8dfdd62eeb",
   "metadata": {},
   "outputs": [
    {
     "data": {
      "text/plain": [
       "48"
      ]
     },
     "execution_count": 385,
     "metadata": {},
     "output_type": "execute_result"
    }
   ],
   "source": [
    "(arr>0).sum()"
   ]
  },
  {
   "cell_type": "code",
   "execution_count": 387,
   "id": "fb468a3d-f6c6-4170-aa62-6da1bf8ff6b5",
   "metadata": {},
   "outputs": [
    {
     "data": {
      "text/plain": [
       "52"
      ]
     },
     "execution_count": 387,
     "metadata": {},
     "output_type": "execute_result"
    }
   ],
   "source": [
    "(arr<=0).sum()"
   ]
  },
  {
   "cell_type": "code",
   "execution_count": 391,
   "id": "8b76ae80-7bf1-4806-b28a-e852c20d2010",
   "metadata": {},
   "outputs": [],
   "source": [
    "bools = np.array([False, False, True,])"
   ]
  },
  {
   "cell_type": "code",
   "execution_count": 393,
   "id": "9071cf7e-ab78-4a37-a813-9bcde04e2963",
   "metadata": {},
   "outputs": [
    {
     "data": {
      "text/plain": [
       "True"
      ]
     },
     "execution_count": 393,
     "metadata": {},
     "output_type": "execute_result"
    }
   ],
   "source": [
    "bools.any()"
   ]
  },
  {
   "cell_type": "code",
   "execution_count": 397,
   "id": "a1f13c85-9b31-4bd3-819c-50acb0e461c1",
   "metadata": {},
   "outputs": [
    {
     "data": {
      "text/plain": [
       "False"
      ]
     },
     "execution_count": 397,
     "metadata": {},
     "output_type": "execute_result"
    }
   ],
   "source": [
    "bools.all()"
   ]
  },
  {
   "cell_type": "markdown",
   "id": "51c0ac39-6f2f-4aab-82b7-6ca958ae5727",
   "metadata": {},
   "source": [
    "## Sorting"
   ]
  },
  {
   "cell_type": "code",
   "execution_count": 402,
   "id": "592a97e6-345f-429b-8420-7a513320919a",
   "metadata": {},
   "outputs": [
    {
     "data": {
      "text/plain": [
       "array([ 0.9359865 ,  1.23853712,  1.27279553,  0.40589222, -0.05032522,\n",
       "        0.28931754])"
      ]
     },
     "execution_count": 402,
     "metadata": {},
     "output_type": "execute_result"
    }
   ],
   "source": [
    "arr = rng.standard_normal(6)\n",
    "arr"
   ]
  },
  {
   "cell_type": "code",
   "execution_count": 408,
   "id": "1a191a39-0ae8-4897-9400-5d1eb4a1097b",
   "metadata": {},
   "outputs": [
    {
     "data": {
      "text/plain": [
       "array([-0.05032522,  0.28931754,  0.40589222,  0.9359865 ,  1.23853712,\n",
       "        1.27279553])"
      ]
     },
     "execution_count": 408,
     "metadata": {},
     "output_type": "execute_result"
    }
   ],
   "source": [
    "arr.sort()\n",
    "arr"
   ]
  },
  {
   "cell_type": "code",
   "execution_count": 412,
   "id": "d34a9cbe-b17c-480b-aebe-b21f48bc110b",
   "metadata": {},
   "outputs": [
    {
     "data": {
      "text/plain": [
       "array([[ 0.22446741, -0.59159345,  0.2262628 ],\n",
       "       [ 0.68618251,  1.21500461,  0.21605944],\n",
       "       [-0.96482356, -0.5566078 , -2.29838764],\n",
       "       [-0.73208213,  0.7364691 ,  0.46571672],\n",
       "       [-0.10787605, -0.34143629,  1.58453379]])"
      ]
     },
     "execution_count": 412,
     "metadata": {},
     "output_type": "execute_result"
    }
   ],
   "source": [
    "arr = rng.standard_normal((5, 3))\n",
    "arr"
   ]
  },
  {
   "cell_type": "code",
   "execution_count": 414,
   "id": "101759de-1b61-4d9c-97af-2d192474d243",
   "metadata": {},
   "outputs": [
    {
     "data": {
      "text/plain": [
       "array([[-0.96482356, -0.59159345, -2.29838764],\n",
       "       [-0.73208213, -0.5566078 ,  0.21605944],\n",
       "       [-0.10787605, -0.34143629,  0.2262628 ],\n",
       "       [ 0.22446741,  0.7364691 ,  0.46571672],\n",
       "       [ 0.68618251,  1.21500461,  1.58453379]])"
      ]
     },
     "execution_count": 414,
     "metadata": {},
     "output_type": "execute_result"
    }
   ],
   "source": [
    "arr.sort(axis = 0)\n",
    "arr"
   ]
  },
  {
   "cell_type": "code",
   "execution_count": 416,
   "id": "e4ddd3de-7056-48a8-9263-ffdf60ae5de8",
   "metadata": {},
   "outputs": [
    {
     "data": {
      "text/plain": [
       "array([[-2.29838764, -0.96482356, -0.59159345],\n",
       "       [-0.73208213, -0.5566078 ,  0.21605944],\n",
       "       [-0.34143629, -0.10787605,  0.2262628 ],\n",
       "       [ 0.22446741,  0.46571672,  0.7364691 ],\n",
       "       [ 0.68618251,  1.21500461,  1.58453379]])"
      ]
     },
     "execution_count": 416,
     "metadata": {},
     "output_type": "execute_result"
    }
   ],
   "source": [
    "arr.sort(axis = 1)\n",
    "arr"
   ]
  },
  {
   "cell_type": "code",
   "execution_count": 418,
   "id": "e686b768-1230-4367-a859-0c4b243289c1",
   "metadata": {},
   "outputs": [
    {
     "data": {
      "text/plain": [
       "array([  5, -10,   7,   1,   0,  -3])"
      ]
     },
     "execution_count": 418,
     "metadata": {},
     "output_type": "execute_result"
    }
   ],
   "source": [
    "arr2 = np.array([5, -10, 7, 1, 0 ,-3])\n",
    "arr2"
   ]
  },
  {
   "cell_type": "code",
   "execution_count": 426,
   "id": "b599ccf0-3f2f-4417-8086-cdc457098eb4",
   "metadata": {},
   "outputs": [
    {
     "data": {
      "text/plain": [
       "array([-10,  -3,   0,   1,   5,   7])"
      ]
     },
     "execution_count": 426,
     "metadata": {},
     "output_type": "execute_result"
    }
   ],
   "source": [
    "sorted_arr_2 = np.sort(arr2)\n",
    "sorted_arr_2"
   ]
  },
  {
   "cell_type": "code",
   "execution_count": 430,
   "id": "a5fe56d8-9036-4191-a5c3-b081541b2d4e",
   "metadata": {},
   "outputs": [
    {
     "data": {
      "text/plain": [
       "array([  5, -10,   7,   1,   0,  -3])"
      ]
     },
     "execution_count": 430,
     "metadata": {},
     "output_type": "execute_result"
    }
   ],
   "source": [
    "arr2"
   ]
  },
  {
   "cell_type": "markdown",
   "id": "71db1476-dcab-4ab5-a622-4b7ce17457b5",
   "metadata": {},
   "source": [
    "## Unique and Other Set Logic"
   ]
  },
  {
   "cell_type": "code",
   "execution_count": 433,
   "id": "f464b8b0-2ff1-4d99-9104-6399d8da5951",
   "metadata": {},
   "outputs": [
    {
     "data": {
      "text/plain": [
       "array(['Bob', 'Will', 'Joe', 'Bob', 'Will', 'Joe', 'Joe'], dtype='<U4')"
      ]
     },
     "execution_count": 433,
     "metadata": {},
     "output_type": "execute_result"
    }
   ],
   "source": [
    "names = np.array([\"Bob\", \"Will\", \"Joe\", \"Bob\", \"Will\", \"Joe\", \"Joe\"])\n",
    "names"
   ]
  },
  {
   "cell_type": "code",
   "execution_count": 435,
   "id": "f5e934e1-2c23-4bd1-b65e-02bc6de0b004",
   "metadata": {},
   "outputs": [
    {
     "data": {
      "text/plain": [
       "array(['Bob', 'Joe', 'Will'], dtype='<U4')"
      ]
     },
     "execution_count": 435,
     "metadata": {},
     "output_type": "execute_result"
    }
   ],
   "source": [
    "np.unique(names)"
   ]
  },
  {
   "cell_type": "code",
   "execution_count": 437,
   "id": "91796ae2-cbb7-4b75-99dd-df4067b392e9",
   "metadata": {},
   "outputs": [
    {
     "data": {
      "text/plain": [
       "array([3, 3, 3, 2, 2, 1, 1, 4, 4])"
      ]
     },
     "execution_count": 437,
     "metadata": {},
     "output_type": "execute_result"
    }
   ],
   "source": [
    "ints = np.array([3, 3, 3, 2, 2, 1, 1, 4, 4])\n",
    "ints"
   ]
  },
  {
   "cell_type": "code",
   "execution_count": 439,
   "id": "1cc8634c-a29c-46ea-a673-edac2169f403",
   "metadata": {},
   "outputs": [
    {
     "data": {
      "text/plain": [
       "array([1, 2, 3, 4])"
      ]
     },
     "execution_count": 439,
     "metadata": {},
     "output_type": "execute_result"
    }
   ],
   "source": [
    "np.unique(ints)"
   ]
  },
  {
   "cell_type": "code",
   "execution_count": 441,
   "id": "97470d65-9538-47aa-8847-0f1f39cd2a8c",
   "metadata": {},
   "outputs": [
    {
     "data": {
      "text/plain": [
       "['Bob', 'Joe', 'Will']"
      ]
     },
     "execution_count": 441,
     "metadata": {},
     "output_type": "execute_result"
    }
   ],
   "source": [
    "sorted(set(names))"
   ]
  },
  {
   "cell_type": "code",
   "execution_count": 443,
   "id": "cdefdbec-7243-487b-ab26-4015f92e7725",
   "metadata": {},
   "outputs": [
    {
     "data": {
      "text/plain": [
       "[1, 2, 3, 4]"
      ]
     },
     "execution_count": 443,
     "metadata": {},
     "output_type": "execute_result"
    }
   ],
   "source": [
    "sorted(set(ints))"
   ]
  },
  {
   "cell_type": "code",
   "execution_count": 445,
   "id": "254bed90-251d-4bb4-9aea-16e58d567037",
   "metadata": {},
   "outputs": [
    {
     "data": {
      "text/plain": [
       "array([ True, False, False,  True,  True, False,  True])"
      ]
     },
     "execution_count": 445,
     "metadata": {},
     "output_type": "execute_result"
    }
   ],
   "source": [
    "values = np.array([6, 0, 0, 3, 2, 5, 6])\n",
    "np.in1d(values, [2, 3, 6])"
   ]
  },
  {
   "cell_type": "markdown",
   "id": "a82ca8ce-000b-4b01-ac06-95b4bf72b4ae",
   "metadata": {},
   "source": [
    "# Linear Algebra"
   ]
  },
  {
   "cell_type": "code",
   "execution_count": 448,
   "id": "885694d4-62ce-4160-91ed-b2576d0608c3",
   "metadata": {},
   "outputs": [],
   "source": [
    "x = np.array([[1., 2., 3.], [4., 5., 6.]])"
   ]
  },
  {
   "cell_type": "code",
   "execution_count": 450,
   "id": "ee6224f5-7105-42e3-a2b1-0949864613b2",
   "metadata": {},
   "outputs": [],
   "source": [
    "y = np.array([[6., 23.], [-1, 7], [8, 9]])"
   ]
  },
  {
   "cell_type": "code",
   "execution_count": 454,
   "id": "038cb2a6-8b27-41e8-b4ea-bb33de065d45",
   "metadata": {},
   "outputs": [
    {
     "data": {
      "text/plain": [
       "array([[1., 2., 3.],\n",
       "       [4., 5., 6.]])"
      ]
     },
     "execution_count": 454,
     "metadata": {},
     "output_type": "execute_result"
    }
   ],
   "source": [
    "x"
   ]
  },
  {
   "cell_type": "code",
   "execution_count": 458,
   "id": "29a768a6-d4b5-4f72-8390-2cbf2287a67e",
   "metadata": {},
   "outputs": [
    {
     "data": {
      "text/plain": [
       "array([[ 6., 23.],\n",
       "       [-1.,  7.],\n",
       "       [ 8.,  9.]])"
      ]
     },
     "execution_count": 458,
     "metadata": {},
     "output_type": "execute_result"
    }
   ],
   "source": [
    "y"
   ]
  },
  {
   "cell_type": "code",
   "execution_count": 460,
   "id": "6f7867f8-6f70-401c-a014-39b0d0e0dee7",
   "metadata": {},
   "outputs": [
    {
     "data": {
      "text/plain": [
       "array([[ 28.,  64.],\n",
       "       [ 67., 181.]])"
      ]
     },
     "execution_count": 460,
     "metadata": {},
     "output_type": "execute_result"
    }
   ],
   "source": [
    "x.dot(y)"
   ]
  },
  {
   "cell_type": "code",
   "execution_count": 462,
   "id": "7f2274d7-3c2a-48f2-81f7-ad94274d7023",
   "metadata": {},
   "outputs": [
    {
     "data": {
      "text/plain": [
       "array([[ 28.,  64.],\n",
       "       [ 67., 181.]])"
      ]
     },
     "execution_count": 462,
     "metadata": {},
     "output_type": "execute_result"
    }
   ],
   "source": [
    "np.dot(x, y)"
   ]
  },
  {
   "cell_type": "code",
   "execution_count": 466,
   "id": "316c9c86-992f-4765-854f-de809199dc43",
   "metadata": {},
   "outputs": [
    {
     "data": {
      "text/plain": [
       "array([ 6., 15.])"
      ]
     },
     "execution_count": 466,
     "metadata": {},
     "output_type": "execute_result"
    }
   ],
   "source": [
    "x @ np.ones(3)"
   ]
  },
  {
   "cell_type": "code",
   "execution_count": 468,
   "id": "49109406-aa74-4ac6-8f61-9218e2dc6512",
   "metadata": {},
   "outputs": [],
   "source": [
    "from numpy.linalg import inv, qr"
   ]
  },
  {
   "cell_type": "code",
   "execution_count": 470,
   "id": "93dc3589-a44f-423d-9985-35ee9eec423b",
   "metadata": {},
   "outputs": [
    {
     "data": {
      "text/plain": [
       "array([[ 0.28224121,  0.90954639,  0.39507157, -0.66937652,  1.55536898],\n",
       "       [-1.23813903, -1.19617346, -0.42914951, -0.72965989, -0.5574689 ],\n",
       "       [-0.59995306,  0.9868272 ,  0.05419468,  0.35190744, -1.58796951],\n",
       "       [-0.84695135,  1.08457026, -1.20382665,  1.17853089, -1.03066585],\n",
       "       [ 0.29921833, -0.84623997,  0.1966203 , -0.89963782, -0.25660543]])"
      ]
     },
     "execution_count": 470,
     "metadata": {},
     "output_type": "execute_result"
    }
   ],
   "source": [
    "X = rng.standard_normal((5, 5))\n",
    "X"
   ]
  },
  {
   "cell_type": "code",
   "execution_count": 472,
   "id": "11dde941-3407-44f8-8444-86d9e8d3ef7f",
   "metadata": {},
   "outputs": [
    {
     "data": {
      "text/plain": [
       "array([[ 2.77945023, -0.02609824,  1.68875297, -0.76397965,  2.87806318],\n",
       "       [-0.02609824,  5.12434826, -0.54586859,  2.65075169, -0.38622153],\n",
       "       [ 1.68875297, -0.54586859,  1.83104604, -1.52788089,  1.95794925],\n",
       "       [-0.76397965,  2.65075169, -1.52788089,  3.30259062, -2.17700267],\n",
       "       [ 2.87806318, -0.38622153,  1.95794925, -2.17700267,  6.37970985]])"
      ]
     },
     "execution_count": 472,
     "metadata": {},
     "output_type": "execute_result"
    }
   ],
   "source": [
    "mat = X.T @ X\n",
    "mat"
   ]
  },
  {
   "cell_type": "code",
   "execution_count": 476,
   "id": "6b58fec9-7aaa-4f09-83f1-3aeb3dfb6aa3",
   "metadata": {},
   "outputs": [
    {
     "data": {
      "text/plain": [
       "array([[ 1.79743686,  0.33750415, -1.82795409, -1.09927011, -0.6045507 ],\n",
       "       [ 0.33750415,  0.47390521, -0.5258413 , -0.6717391 , -0.19140888],\n",
       "       [-1.82795409, -0.5258413 ,  3.00249149,  1.68171119,  0.44519892],\n",
       "       [-1.09927011, -0.6717391 ,  1.68171119,  1.71023788,  0.5227222 ],\n",
       "       [-0.6045507 , -0.19140888,  0.44519892,  0.5227222 ,  0.459629  ]])"
      ]
     },
     "execution_count": 476,
     "metadata": {},
     "output_type": "execute_result"
    }
   ],
   "source": [
    "inv(mat)"
   ]
  },
  {
   "cell_type": "code",
   "execution_count": 478,
   "id": "a725a125-585c-4108-b5b0-2c7cf22b2072",
   "metadata": {},
   "outputs": [
    {
     "data": {
      "text/plain": [
       "array([[ 1.00000000e+00, -1.31334078e-16,  1.14503393e-15,\n",
       "         1.08369135e-15,  1.34900605e-16],\n",
       "       [ 4.44710835e-16,  1.00000000e+00, -3.34998132e-16,\n",
       "         4.64457641e-16,  4.89493652e-17],\n",
       "       [ 1.31128601e-16, -7.24149246e-17,  1.00000000e+00,\n",
       "         1.13838639e-16, -1.12318642e-16],\n",
       "       [-3.25675826e-16, -3.13439777e-16,  3.76730739e-16,\n",
       "         1.00000000e+00,  2.55077766e-16],\n",
       "       [-1.90968385e-16, -1.93320935e-17,  2.96443449e-16,\n",
       "         5.14293361e-16,  1.00000000e+00]])"
      ]
     },
     "execution_count": 478,
     "metadata": {},
     "output_type": "execute_result"
    }
   ],
   "source": [
    "mat @ inv(mat)"
   ]
  },
  {
   "cell_type": "markdown",
   "id": "406f332f-6be9-496a-9652-3a106b9c0162",
   "metadata": {},
   "source": [
    "# Random Walks"
   ]
  },
  {
   "cell_type": "code",
   "execution_count": 483,
   "id": "acd5148e-31fc-4cd3-9150-57d34dde05b4",
   "metadata": {
    "scrolled": true
   },
   "outputs": [
    {
     "data": {
      "text/plain": [
       "[0,\n",
       " -1,\n",
       " -2,\n",
       " -3,\n",
       " -4,\n",
       " -3,\n",
       " -4,\n",
       " -3,\n",
       " -4,\n",
       " -3,\n",
       " -4,\n",
       " -3,\n",
       " -2,\n",
       " -1,\n",
       " 0,\n",
       " -1,\n",
       " 0,\n",
       " 1,\n",
       " 0,\n",
       " 1,\n",
       " 0,\n",
       " -1,\n",
       " 0,\n",
       " 1,\n",
       " 0,\n",
       " -1,\n",
       " 0,\n",
       " -1,\n",
       " -2,\n",
       " -3,\n",
       " -4,\n",
       " -3,\n",
       " -2,\n",
       " -3,\n",
       " -4,\n",
       " -3,\n",
       " -4,\n",
       " -3,\n",
       " -4,\n",
       " -5,\n",
       " -4,\n",
       " -3,\n",
       " -4,\n",
       " -3,\n",
       " -4,\n",
       " -3,\n",
       " -4,\n",
       " -3,\n",
       " -4,\n",
       " -3,\n",
       " -4,\n",
       " -3,\n",
       " -2,\n",
       " -1,\n",
       " -2,\n",
       " -1,\n",
       " 0,\n",
       " 1,\n",
       " 2,\n",
       " 1,\n",
       " 2,\n",
       " 1,\n",
       " 2,\n",
       " 1,\n",
       " 0,\n",
       " 1,\n",
       " 0,\n",
       " -1,\n",
       " -2,\n",
       " -3,\n",
       " -2,\n",
       " -3,\n",
       " -4,\n",
       " -5,\n",
       " -4,\n",
       " -5,\n",
       " -4,\n",
       " -3,\n",
       " -2,\n",
       " -1,\n",
       " -2,\n",
       " -1,\n",
       " -2,\n",
       " -3,\n",
       " -2,\n",
       " -3,\n",
       " -2,\n",
       " -3,\n",
       " -4,\n",
       " -5,\n",
       " -6,\n",
       " -5,\n",
       " -6,\n",
       " -7,\n",
       " -6,\n",
       " -7,\n",
       " -8,\n",
       " -9,\n",
       " -8,\n",
       " -9,\n",
       " -8,\n",
       " -9,\n",
       " -10,\n",
       " -9,\n",
       " -10,\n",
       " -9,\n",
       " -8,\n",
       " -7,\n",
       " -6,\n",
       " -5,\n",
       " -4,\n",
       " -3,\n",
       " -4,\n",
       " -3,\n",
       " -2,\n",
       " -3,\n",
       " -2,\n",
       " -3,\n",
       " -4,\n",
       " -5,\n",
       " -4,\n",
       " -5,\n",
       " -4,\n",
       " -5,\n",
       " -4,\n",
       " -3,\n",
       " -4,\n",
       " -5,\n",
       " -6,\n",
       " -5,\n",
       " -4,\n",
       " -3,\n",
       " -2,\n",
       " -1,\n",
       " 0,\n",
       " 1,\n",
       " 2,\n",
       " 3,\n",
       " 4,\n",
       " 5,\n",
       " 4,\n",
       " 5,\n",
       " 6,\n",
       " 5,\n",
       " 4,\n",
       " 5,\n",
       " 4,\n",
       " 3,\n",
       " 2,\n",
       " 3,\n",
       " 2,\n",
       " 1,\n",
       " 2,\n",
       " 3,\n",
       " 2,\n",
       " 1,\n",
       " 0,\n",
       " 1,\n",
       " 0,\n",
       " 1,\n",
       " 2,\n",
       " 1,\n",
       " 2,\n",
       " 3,\n",
       " 2,\n",
       " 1,\n",
       " 2,\n",
       " 1,\n",
       " 0,\n",
       " 1,\n",
       " 0,\n",
       " 1,\n",
       " 2,\n",
       " 3,\n",
       " 4,\n",
       " 5,\n",
       " 6,\n",
       " 7,\n",
       " 8,\n",
       " 7,\n",
       " 8,\n",
       " 7,\n",
       " 8,\n",
       " 9,\n",
       " 10,\n",
       " 11,\n",
       " 12,\n",
       " 13,\n",
       " 12,\n",
       " 11,\n",
       " 10,\n",
       " 9,\n",
       " 8,\n",
       " 9,\n",
       " 10,\n",
       " 11,\n",
       " 10,\n",
       " 9,\n",
       " 8,\n",
       " 9,\n",
       " 8,\n",
       " 9,\n",
       " 10,\n",
       " 11,\n",
       " 12,\n",
       " 13,\n",
       " 12,\n",
       " 11,\n",
       " 12,\n",
       " 13,\n",
       " 14,\n",
       " 15,\n",
       " 14,\n",
       " 15,\n",
       " 14,\n",
       " 15,\n",
       " 14,\n",
       " 15,\n",
       " 14,\n",
       " 13,\n",
       " 14,\n",
       " 13,\n",
       " 12,\n",
       " 11,\n",
       " 12,\n",
       " 13,\n",
       " 12,\n",
       " 11,\n",
       " 12,\n",
       " 11,\n",
       " 10,\n",
       " 9,\n",
       " 8,\n",
       " 7,\n",
       " 6,\n",
       " 5,\n",
       " 6,\n",
       " 5,\n",
       " 6,\n",
       " 5,\n",
       " 4,\n",
       " 5,\n",
       " 6,\n",
       " 7,\n",
       " 8,\n",
       " 9,\n",
       " 8,\n",
       " 9,\n",
       " 10,\n",
       " 9,\n",
       " 8,\n",
       " 9,\n",
       " 8,\n",
       " 9,\n",
       " 10,\n",
       " 11,\n",
       " 12,\n",
       " 11,\n",
       " 10,\n",
       " 9,\n",
       " 8,\n",
       " 9,\n",
       " 8,\n",
       " 9,\n",
       " 10,\n",
       " 9,\n",
       " 8,\n",
       " 9,\n",
       " 8,\n",
       " 7,\n",
       " 8,\n",
       " 9,\n",
       " 10,\n",
       " 9,\n",
       " 8,\n",
       " 9,\n",
       " 10,\n",
       " 9,\n",
       " 8,\n",
       " 9,\n",
       " 8,\n",
       " 7,\n",
       " 8,\n",
       " 9,\n",
       " 10,\n",
       " 11,\n",
       " 10,\n",
       " 11,\n",
       " 10,\n",
       " 11,\n",
       " 10,\n",
       " 11,\n",
       " 12,\n",
       " 13,\n",
       " 12,\n",
       " 13,\n",
       " 14,\n",
       " 13,\n",
       " 14,\n",
       " 15,\n",
       " 16,\n",
       " 17,\n",
       " 18,\n",
       " 17,\n",
       " 18,\n",
       " 17,\n",
       " 18,\n",
       " 19,\n",
       " 18,\n",
       " 17,\n",
       " 16,\n",
       " 15,\n",
       " 14,\n",
       " 13,\n",
       " 12,\n",
       " 13,\n",
       " 12,\n",
       " 11,\n",
       " 12,\n",
       " 11,\n",
       " 12,\n",
       " 13,\n",
       " 14,\n",
       " 13,\n",
       " 12,\n",
       " 13,\n",
       " 12,\n",
       " 13,\n",
       " 14,\n",
       " 15,\n",
       " 16,\n",
       " 17,\n",
       " 16,\n",
       " 15,\n",
       " 16,\n",
       " 17,\n",
       " 16,\n",
       " 15,\n",
       " 14,\n",
       " 13,\n",
       " 12,\n",
       " 13,\n",
       " 14,\n",
       " 13,\n",
       " 14,\n",
       " 13,\n",
       " 12,\n",
       " 13,\n",
       " 14,\n",
       " 13,\n",
       " 14,\n",
       " 13,\n",
       " 12,\n",
       " 11,\n",
       " 10,\n",
       " 11,\n",
       " 12,\n",
       " 11,\n",
       " 12,\n",
       " 11,\n",
       " 12,\n",
       " 11,\n",
       " 10,\n",
       " 9,\n",
       " 8,\n",
       " 7,\n",
       " 8,\n",
       " 7,\n",
       " 8,\n",
       " 9,\n",
       " 8,\n",
       " 9,\n",
       " 8,\n",
       " 9,\n",
       " 8,\n",
       " 9,\n",
       " 8,\n",
       " 9,\n",
       " 8,\n",
       " 7,\n",
       " 6,\n",
       " 5,\n",
       " 6,\n",
       " 7,\n",
       " 6,\n",
       " 5,\n",
       " 6,\n",
       " 7,\n",
       " 8,\n",
       " 9,\n",
       " 8,\n",
       " 7,\n",
       " 6,\n",
       " 7,\n",
       " 8,\n",
       " 7,\n",
       " 6,\n",
       " 7,\n",
       " 6,\n",
       " 7,\n",
       " 8,\n",
       " 7,\n",
       " 8,\n",
       " 9,\n",
       " 10,\n",
       " 9,\n",
       " 10,\n",
       " 9,\n",
       " 10,\n",
       " 11,\n",
       " 10,\n",
       " 11,\n",
       " 12,\n",
       " 11,\n",
       " 10,\n",
       " 9,\n",
       " 8,\n",
       " 9,\n",
       " 10,\n",
       " 9,\n",
       " 10,\n",
       " 9,\n",
       " 10,\n",
       " 9,\n",
       " 8,\n",
       " 7,\n",
       " 8,\n",
       " 7,\n",
       " 6,\n",
       " 7,\n",
       " 6,\n",
       " 5,\n",
       " 6,\n",
       " 7,\n",
       " 8,\n",
       " 7,\n",
       " 6,\n",
       " 5,\n",
       " 4,\n",
       " 5,\n",
       " 4,\n",
       " 5,\n",
       " 6,\n",
       " 5,\n",
       " 6,\n",
       " 7,\n",
       " 8,\n",
       " 7,\n",
       " 8,\n",
       " 9,\n",
       " 10,\n",
       " 11,\n",
       " 10,\n",
       " 9,\n",
       " 8,\n",
       " 7,\n",
       " 8,\n",
       " 7,\n",
       " 8,\n",
       " 9,\n",
       " 10,\n",
       " 11,\n",
       " 12,\n",
       " 13,\n",
       " 14,\n",
       " 15,\n",
       " 16,\n",
       " 17,\n",
       " 16,\n",
       " 17,\n",
       " 18,\n",
       " 19,\n",
       " 20,\n",
       " 21,\n",
       " 20,\n",
       " 19,\n",
       " 20,\n",
       " 19,\n",
       " 18,\n",
       " 19,\n",
       " 18,\n",
       " 19,\n",
       " 18,\n",
       " 19,\n",
       " 18,\n",
       " 17,\n",
       " 16,\n",
       " 15,\n",
       " 14,\n",
       " 13,\n",
       " 14,\n",
       " 13,\n",
       " 12,\n",
       " 13,\n",
       " 14,\n",
       " 15,\n",
       " 16,\n",
       " 17,\n",
       " 16,\n",
       " 15,\n",
       " 14,\n",
       " 15,\n",
       " 16,\n",
       " 17,\n",
       " 18,\n",
       " 19,\n",
       " 18,\n",
       " 19,\n",
       " 18,\n",
       " 19,\n",
       " 20,\n",
       " 19,\n",
       " 18,\n",
       " 17,\n",
       " 16,\n",
       " 17,\n",
       " 18,\n",
       " 17,\n",
       " 18,\n",
       " 17,\n",
       " 18,\n",
       " 19,\n",
       " 18,\n",
       " 17,\n",
       " 18,\n",
       " 19,\n",
       " 20,\n",
       " 21,\n",
       " 22,\n",
       " 23,\n",
       " 22,\n",
       " 21,\n",
       " 22,\n",
       " 21,\n",
       " 20,\n",
       " 21,\n",
       " 22,\n",
       " 23,\n",
       " 24,\n",
       " 25,\n",
       " 24,\n",
       " 23,\n",
       " 24,\n",
       " 23,\n",
       " 22,\n",
       " 23,\n",
       " 24,\n",
       " 23,\n",
       " 22,\n",
       " 23,\n",
       " 24,\n",
       " 23,\n",
       " 24,\n",
       " 23,\n",
       " 22,\n",
       " 21,\n",
       " 20,\n",
       " 21,\n",
       " 20,\n",
       " 21,\n",
       " 20,\n",
       " 21,\n",
       " 22,\n",
       " 23,\n",
       " 22,\n",
       " 23,\n",
       " 24,\n",
       " 23,\n",
       " 22,\n",
       " 23,\n",
       " 22,\n",
       " 23,\n",
       " 22,\n",
       " 21,\n",
       " 20,\n",
       " 21,\n",
       " 22,\n",
       " 23,\n",
       " 24,\n",
       " 23,\n",
       " 24,\n",
       " 23,\n",
       " 24,\n",
       " 25,\n",
       " 26,\n",
       " 25,\n",
       " 24,\n",
       " 23,\n",
       " 24,\n",
       " 25,\n",
       " 26,\n",
       " 27,\n",
       " 28,\n",
       " 27,\n",
       " 28,\n",
       " 27,\n",
       " 26,\n",
       " 27,\n",
       " 26,\n",
       " 25,\n",
       " 26,\n",
       " 25,\n",
       " 24,\n",
       " 23,\n",
       " 22,\n",
       " 21,\n",
       " 20,\n",
       " 19,\n",
       " 20,\n",
       " 19,\n",
       " 20,\n",
       " 19,\n",
       " 18,\n",
       " 19,\n",
       " 18,\n",
       " 19,\n",
       " 18,\n",
       " 19,\n",
       " 20,\n",
       " 21,\n",
       " 22,\n",
       " 21,\n",
       " 22,\n",
       " 21,\n",
       " 20,\n",
       " 19,\n",
       " 20,\n",
       " 21,\n",
       " 22,\n",
       " 23,\n",
       " 22,\n",
       " 23,\n",
       " 22,\n",
       " 21,\n",
       " 22,\n",
       " 21,\n",
       " 22,\n",
       " 21,\n",
       " 20,\n",
       " 21,\n",
       " 20,\n",
       " 19,\n",
       " 18,\n",
       " 19,\n",
       " 18,\n",
       " 17,\n",
       " 16,\n",
       " 17,\n",
       " 16,\n",
       " 17,\n",
       " 16,\n",
       " 15,\n",
       " 16,\n",
       " 15,\n",
       " 16,\n",
       " 17,\n",
       " 18,\n",
       " 17,\n",
       " 16,\n",
       " 15,\n",
       " 14,\n",
       " 13,\n",
       " 12,\n",
       " 13,\n",
       " 14,\n",
       " 13,\n",
       " 12,\n",
       " 11,\n",
       " 12,\n",
       " 11,\n",
       " 12,\n",
       " 13,\n",
       " 14,\n",
       " 13,\n",
       " 12,\n",
       " 11,\n",
       " 10,\n",
       " 9,\n",
       " 10,\n",
       " 11,\n",
       " 12,\n",
       " 13,\n",
       " 12,\n",
       " 11,\n",
       " 10,\n",
       " 11,\n",
       " 10,\n",
       " 11,\n",
       " 10,\n",
       " 11,\n",
       " 10,\n",
       " 11,\n",
       " 10,\n",
       " 9,\n",
       " 10,\n",
       " 9,\n",
       " 8,\n",
       " 7,\n",
       " 8,\n",
       " 9,\n",
       " 8,\n",
       " 9,\n",
       " 8,\n",
       " 9,\n",
       " 10,\n",
       " 9,\n",
       " 10,\n",
       " 11,\n",
       " 10,\n",
       " 11,\n",
       " 12,\n",
       " 11,\n",
       " 12,\n",
       " 11,\n",
       " 12,\n",
       " 13,\n",
       " 14,\n",
       " 13,\n",
       " 14,\n",
       " 15,\n",
       " 14,\n",
       " 13,\n",
       " 12,\n",
       " 13,\n",
       " 12,\n",
       " 13,\n",
       " 14,\n",
       " 13,\n",
       " 14,\n",
       " 15,\n",
       " 16,\n",
       " 17,\n",
       " 18,\n",
       " 19,\n",
       " 20,\n",
       " 21,\n",
       " 22,\n",
       " 21,\n",
       " 20,\n",
       " 21,\n",
       " 20,\n",
       " 21,\n",
       " 20,\n",
       " 21,\n",
       " 20,\n",
       " 21,\n",
       " 22,\n",
       " 21,\n",
       " 20,\n",
       " 19,\n",
       " 18,\n",
       " 19,\n",
       " 20,\n",
       " 19,\n",
       " 20,\n",
       " 21,\n",
       " 20,\n",
       " 21,\n",
       " 20,\n",
       " 19,\n",
       " 18,\n",
       " 17,\n",
       " 18,\n",
       " 19,\n",
       " 20,\n",
       " 19,\n",
       " 20,\n",
       " 21,\n",
       " 20,\n",
       " 19,\n",
       " 20,\n",
       " 19,\n",
       " 20,\n",
       " 21,\n",
       " 22,\n",
       " 23,\n",
       " 24,\n",
       " 25,\n",
       " 24,\n",
       " 25,\n",
       " 24,\n",
       " 25,\n",
       " 24,\n",
       " 23,\n",
       " 24,\n",
       " 25,\n",
       " 24,\n",
       " 23,\n",
       " 22,\n",
       " 23,\n",
       " 24,\n",
       " 23,\n",
       " 24,\n",
       " 23,\n",
       " 24,\n",
       " 25,\n",
       " 26,\n",
       " 25,\n",
       " 24,\n",
       " 23,\n",
       " 22,\n",
       " 23,\n",
       " 22,\n",
       " 21,\n",
       " 20,\n",
       " 19,\n",
       " 20,\n",
       " 21,\n",
       " 22,\n",
       " 23,\n",
       " 22,\n",
       " 23,\n",
       " 24,\n",
       " 23,\n",
       " 24,\n",
       " 25,\n",
       " 24,\n",
       " 23,\n",
       " 22,\n",
       " 23,\n",
       " 22,\n",
       " 21,\n",
       " 20,\n",
       " 21,\n",
       " 22,\n",
       " 23,\n",
       " 24,\n",
       " 25,\n",
       " 26,\n",
       " 27,\n",
       " 28,\n",
       " 27,\n",
       " 26,\n",
       " 27,\n",
       " 26,\n",
       " 27,\n",
       " 26,\n",
       " 27,\n",
       " 28,\n",
       " 27,\n",
       " 28,\n",
       " 27,\n",
       " 26,\n",
       " 27,\n",
       " 28,\n",
       " 27,\n",
       " 26,\n",
       " 27,\n",
       " 26,\n",
       " 25,\n",
       " 24,\n",
       " 23,\n",
       " 24,\n",
       " 25,\n",
       " 24,\n",
       " 25,\n",
       " 24,\n",
       " 25,\n",
       " 24,\n",
       " 25,\n",
       " 26,\n",
       " 25,\n",
       " 26,\n",
       " 25,\n",
       " 26,\n",
       " 25,\n",
       " 26,\n",
       " 27,\n",
       " 26,\n",
       " 25,\n",
       " 26,\n",
       " 25,\n",
       " 26,\n",
       " 27,\n",
       " 28,\n",
       " 29,\n",
       " 28,\n",
       " 27,\n",
       " 26,\n",
       " 27,\n",
       " 26,\n",
       " 27,\n",
       " 26,\n",
       " 27,\n",
       " 26,\n",
       " 25,\n",
       " 26,\n",
       " 25,\n",
       " 24,\n",
       " 23,\n",
       " 24,\n",
       " 23,\n",
       " 22,\n",
       " 23,\n",
       " 22,\n",
       " 23,\n",
       " 22,\n",
       " 23,\n",
       " 22,\n",
       " 23,\n",
       " 24,\n",
       " 25,\n",
       " 24,\n",
       " 25,\n",
       " 24,\n",
       " 25,\n",
       " 26,\n",
       " 27,\n",
       " 26,\n",
       " 25,\n",
       " 24,\n",
       " 25,\n",
       " 26,\n",
       " 25,\n",
       " 24,\n",
       " 23,\n",
       " 22,\n",
       " 23,\n",
       " 22,\n",
       " 21,\n",
       " 22,\n",
       " 23,\n",
       " 24,\n",
       " 25,\n",
       " 26,\n",
       " 25,\n",
       " 26,\n",
       " 27,\n",
       " 28,\n",
       " 29,\n",
       " 28,\n",
       " 27,\n",
       " 28,\n",
       " 27,\n",
       " 28,\n",
       " 29,\n",
       " 30,\n",
       " 29,\n",
       " 28,\n",
       " 29,\n",
       " 28,\n",
       " 27,\n",
       " 28,\n",
       " 29,\n",
       " 28,\n",
       " 27,\n",
       " 28,\n",
       " 29,\n",
       " 30,\n",
       " 29,\n",
       " 28,\n",
       " 27,\n",
       " 28,\n",
       " 27,\n",
       " 26,\n",
       " 27,\n",
       " 28,\n",
       " 27,\n",
       " 26,\n",
       " 25,\n",
       " 24,\n",
       " 25,\n",
       " 26,\n",
       " 27,\n",
       " 26,\n",
       " 27,\n",
       " 28,\n",
       " 27,\n",
       " 26,\n",
       " 25,\n",
       " 24,\n",
       " 25,\n",
       " 26,\n",
       " 27,\n",
       " 28,\n",
       " 29,\n",
       " 28,\n",
       " 27,\n",
       " 26,\n",
       " 25,\n",
       " 26,\n",
       " 27,\n",
       " 28,\n",
       " 27,\n",
       " 28,\n",
       " 27,\n",
       " 26,\n",
       " 25,\n",
       " 24,\n",
       " 23,\n",
       " 22,\n",
       " 23,\n",
       " 22,\n",
       " 23,\n",
       " 22,\n",
       " 21,\n",
       " 22,\n",
       " 21,\n",
       " 22,\n",
       " 23,\n",
       " ...]"
      ]
     },
     "execution_count": 483,
     "metadata": {},
     "output_type": "execute_result"
    }
   ],
   "source": [
    "import random\n",
    "position = 0\n",
    "walk = [position]\n",
    "nsteps = 1000\n",
    "for _ in range(nsteps):\n",
    "    step = 1 if random.randint(0, 1) else -1\n",
    "    position += step\n",
    "    walk.append(position)\n",
    "\n",
    "walk"
   ]
  },
  {
   "cell_type": "code",
   "execution_count": 487,
   "id": "d6cc3d3d-aa13-498b-b9e4-ccc3140d10eb",
   "metadata": {},
   "outputs": [
    {
     "data": {
      "text/plain": [
       "[<matplotlib.lines.Line2D at 0x20b89814d40>]"
      ]
     },
     "execution_count": 487,
     "metadata": {},
     "output_type": "execute_result"
    },
    {
     "data": {
      "image/png": "[encoded data removed]",
      "text/plain": [
       "<Figure size 640x480 with 1 Axes>"
      ]
     },
     "metadata": {},
     "output_type": "display_data"
    }
   ],
   "source": [
    "plt.plot(walk[:100])"
   ]
  },
  {
   "cell_type": "code",
   "execution_count": 489,
   "id": "95af4824-8fb5-449f-8ae0-80493bda81c6",
   "metadata": {},
   "outputs": [
    {
     "data": {
      "text/plain": [
       "Generator(PCG64) at 0x20B83AC4580"
      ]
     },
     "execution_count": 489,
     "metadata": {},
     "output_type": "execute_result"
    }
   ],
   "source": [
    "nstep = 1000\n",
    "rng = np.random.default_rng(seed=12345)\n",
    "rng"
   ]
  },
  {
   "cell_type": "code",
   "execution_count": 493,
   "id": "0a32244e-cc5a-425f-bdb6-c78727cc260c",
   "metadata": {},
   "outputs": [
    {
     "data": {
      "text/plain": [
       "array([1, 1, 1, 1, 1, 0, 1, 0, 1, 1, 1, 0, 1, 1, 0, 1, 1, 1, 0, 0, 0, 1,\n",
       "       0, 1, 0, 1, 1, 0, 0, 0, 0, 1, 0, 0, 1, 0, 1, 0, 1, 1, 1, 0, 1, 0,\n",
       "       0, 1, 0, 1, 1, 0, 1, 1, 0, 1, 0, 0, 1, 0, 1, 0, 1, 0, 0, 1, 0, 1,\n",
       "       0, 1, 0, 0, 0, 1, 0, 0, 0, 0, 1, 0, 0, 1, 1, 1, 0, 0, 0, 0, 0, 0,\n",
       "       1, 0, 1, 0, 1, 1, 1, 1, 0, 0, 0, 1, 0, 1, 0, 0, 1, 0, 1, 1, 1, 0,\n",
       "       0, 1, 1, 1, 0, 0, 0, 1, 1, 1, 0, 0, 1, 1, 1, 0, 0, 0, 1, 1, 0, 1,\n",
       "       1, 0, 0, 1, 1, 1, 1, 0, 1, 1, 1, 1, 1, 0, 0, 0, 1, 0, 0, 0, 1, 1,\n",
       "       1, 0, 1, 1, 1, 1, 0, 0, 1, 0, 0, 0, 0, 1, 1, 1, 1, 0, 0, 0, 0, 0,\n",
       "       1, 1, 0, 0, 1, 0, 0, 0, 1, 1, 1, 0, 1, 0, 1, 1, 0, 0, 1, 0, 1, 1,\n",
       "       1, 0, 1, 1, 1, 1, 1, 1, 0, 0, 0, 0, 1, 1, 0, 0, 1, 1, 0, 0, 1, 1,\n",
       "       1, 1, 1, 1, 0, 0, 0, 0, 1, 1, 0, 1, 1, 1, 1, 0, 1, 0, 1, 1, 0, 1,\n",
       "       0, 1, 0, 1, 1, 1, 0, 1, 0, 1, 0, 0, 1, 0, 0, 0, 0, 1, 1, 0, 1, 0,\n",
       "       0, 0, 0, 0, 0, 1, 0, 1, 0, 0, 0, 0, 0, 1, 0, 0, 0, 1, 0, 0, 1, 1,\n",
       "       0, 0, 1, 1, 1, 0, 0, 0, 1, 1, 0, 0, 0, 1, 0, 0, 0, 1, 1, 1, 1, 1,\n",
       "       1, 0, 1, 1, 0, 0, 1, 0, 0, 1, 0, 1, 1, 1, 1, 0, 0, 0, 1, 1, 1, 0,\n",
       "       0, 0, 1, 0, 1, 1, 1, 1, 1, 0, 1, 1, 0, 1, 0, 0, 0, 0, 1, 0, 1, 0,\n",
       "       0, 0, 1, 1, 1, 1, 0, 0, 1, 0, 0, 1, 0, 1, 1, 1, 1, 1, 0, 0, 1, 1,\n",
       "       0, 1, 1, 0, 1, 0, 0, 0, 0, 0, 0, 0, 0, 0, 1, 1, 1, 1, 1, 1, 1, 1,\n",
       "       0, 1, 1, 0, 1, 1, 1, 1, 1, 1, 0, 0, 0, 1, 1, 1, 0, 1, 1, 0, 1, 1,\n",
       "       0, 1, 0, 0, 0, 1, 0, 1, 1, 1, 1, 1, 1, 0, 0, 1, 0, 0, 0, 0, 0, 0,\n",
       "       1, 0, 1, 1, 0, 1, 1, 0, 1, 1, 0, 1, 0, 0, 0, 0, 0, 0, 0, 0, 1, 0,\n",
       "       0, 0, 0, 0, 1, 0, 0, 1, 1, 0, 1, 0, 0, 0, 0, 1, 0, 0, 0, 1, 0, 1,\n",
       "       1, 1, 1, 1, 0, 1, 1, 0, 0, 1, 1, 1, 1, 0, 1, 1, 1, 0, 1, 0, 1, 1,\n",
       "       0, 1, 1, 0, 0, 0, 1, 0, 0, 0, 1, 0, 0, 0, 1, 0, 0, 1, 0, 1, 0, 1,\n",
       "       1, 1, 1, 1, 1, 1, 0, 0, 1, 1, 0, 0, 0, 1, 0, 1, 1, 1, 0, 1, 0, 0,\n",
       "       0, 1, 0, 1, 0, 1, 1, 0, 0, 0, 1, 1, 0, 0, 0, 1, 0, 0, 1, 1, 0, 0,\n",
       "       1, 0, 1, 1, 0, 0, 1, 0, 1, 1, 0, 0, 0, 0, 0, 1, 1, 0, 0, 1, 0, 0,\n",
       "       1, 1, 0, 0, 1, 0, 1, 1, 0, 1, 0, 1, 1, 0, 0, 0, 1, 0, 1, 0, 1, 1,\n",
       "       1, 0, 1, 0, 0, 1, 0, 1, 1, 1, 1, 1, 1, 1, 1, 1, 1, 0, 0, 0, 1, 1,\n",
       "       1, 0, 1, 1, 1, 0, 0, 1, 0, 0, 1, 1, 0, 0, 1, 1, 0, 1, 1, 0, 1, 0,\n",
       "       0, 0, 0, 0, 0, 0, 1, 1, 0, 0, 0, 1, 0, 0, 1, 0, 1, 0, 0, 1, 1, 1,\n",
       "       0, 0, 1, 0, 1, 1, 0, 1, 0, 1, 0, 1, 0, 0, 0, 1, 0, 1, 1, 1, 1, 1,\n",
       "       0, 0, 1, 1, 1, 0, 1, 1, 0, 1, 1, 1, 0, 0, 1, 1, 1, 1, 1, 1, 1, 1,\n",
       "       1, 0, 0, 0, 1, 0, 0, 0, 1, 1, 0, 1, 1, 0, 1, 0, 1, 0, 0, 0, 0, 1,\n",
       "       0, 0, 0, 1, 1, 1, 1, 0, 0, 1, 1, 0, 0, 1, 1, 1, 1, 0, 0, 1, 1, 0,\n",
       "       1, 1, 0, 1, 0, 1, 1, 0, 1, 1, 0, 0, 1, 1, 0, 1, 0, 0, 0, 1, 0, 0,\n",
       "       1, 1, 0, 1, 1, 0, 1, 1, 1, 0, 0, 1, 1, 0, 0, 1, 0, 1, 1, 0, 1, 0,\n",
       "       0, 0, 0, 1, 0, 1, 0, 1, 0, 0, 0, 0, 1, 0, 0, 0, 1, 1, 1, 0, 0, 0,\n",
       "       0, 1, 0, 0, 0, 0, 0, 1, 0, 0, 0, 0, 0, 0, 1, 1, 0, 0, 0, 0, 1, 1,\n",
       "       0, 1, 0, 0, 0, 0, 1, 1, 0, 0, 1, 0, 0, 1, 0, 1, 0, 1, 1, 0, 1, 0,\n",
       "       0, 1, 0, 0, 1, 1, 1, 0, 0, 0, 1, 0, 1, 1, 0, 0, 1, 0, 1, 1, 1, 0,\n",
       "       1, 1, 0, 1, 1, 1, 0, 0, 0, 0, 1, 0, 0, 1, 1, 1, 0, 1, 0, 1, 0, 1,\n",
       "       1, 0, 1, 0, 1, 0, 1, 1, 1, 1, 1, 1, 0, 1, 0, 1, 1, 0, 1, 1, 1, 1,\n",
       "       0, 1, 1, 0, 1, 1, 1, 1, 0, 0, 1, 1, 1, 0, 1, 1, 1, 0, 0, 1, 1, 0,\n",
       "       0, 1, 1, 0, 1, 1, 1, 1, 1, 0, 1, 1, 1, 1, 1, 0, 0, 1, 1, 1, 0, 0,\n",
       "       0, 1, 1, 0, 1, 0, 0, 0, 1, 0], dtype=int64)"
      ]
     },
     "execution_count": 493,
     "metadata": {},
     "output_type": "execute_result"
    }
   ],
   "source": [
    "draws = rng.integers(0, 2, size=nsteps)\n",
    "draws"
   ]
  },
  {
   "cell_type": "code",
   "execution_count": 495,
   "id": "90feda4e-5b5f-4407-95e5-1a5f8692613c",
   "metadata": {},
   "outputs": [
    {
     "data": {
      "text/plain": [
       "array([-1, -1, -1, -1, -1,  1, -1,  1, -1, -1, -1,  1, -1, -1,  1, -1, -1,\n",
       "       -1,  1,  1,  1, -1,  1, -1,  1, -1, -1,  1,  1,  1,  1, -1,  1,  1,\n",
       "       -1,  1, -1,  1, -1, -1, -1,  1, -1,  1,  1, -1,  1, -1, -1,  1, -1,\n",
       "       -1,  1, -1,  1,  1, -1,  1, -1,  1, -1,  1,  1, -1,  1, -1,  1, -1,\n",
       "        1,  1,  1, -1,  1,  1,  1,  1, -1,  1,  1, -1, -1, -1,  1,  1,  1,\n",
       "        1,  1,  1, -1,  1, -1,  1, -1, -1, -1, -1,  1,  1,  1, -1,  1, -1,\n",
       "        1,  1, -1,  1, -1, -1, -1,  1,  1, -1, -1, -1,  1,  1,  1, -1, -1,\n",
       "       -1,  1,  1, -1, -1, -1,  1,  1,  1, -1, -1,  1, -1, -1,  1,  1, -1,\n",
       "       -1, -1, -1,  1, -1, -1, -1, -1, -1,  1,  1,  1, -1,  1,  1,  1, -1,\n",
       "       -1, -1,  1, -1, -1, -1, -1,  1,  1, -1,  1,  1,  1,  1, -1, -1, -1,\n",
       "       -1,  1,  1,  1,  1,  1, -1, -1,  1,  1, -1,  1,  1,  1, -1, -1, -1,\n",
       "        1, -1,  1, -1, -1,  1,  1, -1,  1, -1, -1, -1,  1, -1, -1, -1, -1,\n",
       "       -1, -1,  1,  1,  1,  1, -1, -1,  1,  1, -1, -1,  1,  1, -1, -1, -1,\n",
       "       -1, -1, -1,  1,  1,  1,  1, -1, -1,  1, -1, -1, -1, -1,  1, -1,  1,\n",
       "       -1, -1,  1, -1,  1, -1,  1, -1, -1, -1,  1, -1,  1, -1,  1,  1, -1,\n",
       "        1,  1,  1,  1, -1, -1,  1, -1,  1,  1,  1,  1,  1,  1, -1,  1, -1,\n",
       "        1,  1,  1,  1,  1, -1,  1,  1,  1, -1,  1,  1, -1, -1,  1,  1, -1,\n",
       "       -1, -1,  1,  1,  1, -1, -1,  1,  1,  1, -1,  1,  1,  1, -1, -1, -1,\n",
       "       -1, -1, -1,  1, -1, -1,  1,  1, -1,  1,  1, -1,  1, -1, -1, -1, -1,\n",
       "        1,  1,  1, -1, -1, -1,  1,  1,  1, -1,  1, -1, -1, -1, -1, -1,  1,\n",
       "       -1, -1,  1, -1,  1,  1,  1,  1, -1,  1, -1,  1,  1,  1, -1, -1, -1,\n",
       "       -1,  1,  1, -1,  1,  1, -1,  1, -1, -1, -1, -1, -1,  1,  1, -1, -1,\n",
       "        1, -1, -1,  1, -1,  1,  1,  1,  1,  1,  1,  1,  1,  1, -1, -1, -1,\n",
       "       -1, -1, -1, -1, -1,  1, -1, -1,  1, -1, -1, -1, -1, -1, -1,  1,  1,\n",
       "        1, -1, -1, -1,  1, -1, -1,  1, -1, -1,  1, -1,  1,  1,  1, -1,  1,\n",
       "       -1, -1, -1, -1, -1, -1,  1,  1, -1,  1,  1,  1,  1,  1,  1, -1,  1,\n",
       "       -1, -1,  1, -1, -1,  1, -1, -1,  1, -1,  1,  1,  1,  1,  1,  1,  1,\n",
       "        1, -1,  1,  1,  1,  1,  1, -1,  1,  1, -1, -1,  1, -1,  1,  1,  1,\n",
       "        1, -1,  1,  1,  1, -1,  1, -1, -1, -1, -1, -1,  1, -1, -1,  1,  1,\n",
       "       -1, -1, -1, -1,  1, -1, -1, -1,  1, -1,  1, -1, -1,  1, -1, -1,  1,\n",
       "        1,  1, -1,  1,  1,  1, -1,  1,  1,  1, -1,  1,  1, -1,  1, -1,  1,\n",
       "       -1, -1, -1, -1, -1, -1, -1,  1,  1, -1, -1,  1,  1,  1, -1,  1, -1,\n",
       "       -1, -1,  1, -1,  1,  1,  1, -1,  1, -1,  1, -1, -1,  1,  1,  1, -1,\n",
       "       -1,  1,  1,  1, -1,  1,  1, -1, -1,  1,  1, -1,  1, -1, -1,  1,  1,\n",
       "       -1,  1, -1, -1,  1,  1,  1,  1,  1, -1, -1,  1,  1, -1,  1,  1, -1,\n",
       "       -1,  1,  1, -1,  1, -1, -1,  1, -1,  1, -1, -1,  1,  1,  1, -1,  1,\n",
       "       -1,  1, -1, -1, -1,  1, -1,  1,  1, -1,  1, -1, -1, -1, -1, -1, -1,\n",
       "       -1, -1, -1, -1,  1,  1,  1, -1, -1, -1,  1, -1, -1, -1,  1,  1, -1,\n",
       "        1,  1, -1, -1,  1,  1, -1, -1,  1, -1, -1,  1, -1,  1,  1,  1,  1,\n",
       "        1,  1,  1, -1, -1,  1,  1,  1, -1,  1,  1, -1,  1, -1,  1,  1, -1,\n",
       "       -1, -1,  1,  1, -1,  1, -1, -1,  1, -1,  1, -1,  1, -1,  1,  1,  1,\n",
       "       -1,  1, -1, -1, -1, -1, -1,  1,  1, -1, -1, -1,  1, -1, -1,  1, -1,\n",
       "       -1, -1,  1,  1, -1, -1, -1, -1, -1, -1, -1, -1, -1,  1,  1,  1, -1,\n",
       "        1,  1,  1, -1, -1,  1, -1, -1,  1, -1,  1, -1,  1,  1,  1,  1, -1,\n",
       "        1,  1,  1, -1, -1, -1, -1,  1,  1, -1, -1,  1,  1, -1, -1, -1, -1,\n",
       "        1,  1, -1, -1,  1, -1, -1,  1, -1,  1, -1, -1,  1, -1, -1,  1,  1,\n",
       "       -1, -1,  1, -1,  1,  1,  1, -1,  1,  1, -1, -1,  1, -1, -1,  1, -1,\n",
       "       -1, -1,  1,  1, -1, -1,  1,  1, -1,  1, -1, -1,  1, -1,  1,  1,  1,\n",
       "        1, -1,  1, -1,  1, -1,  1,  1,  1,  1, -1,  1,  1,  1, -1, -1, -1,\n",
       "        1,  1,  1,  1, -1,  1,  1,  1,  1,  1, -1,  1,  1,  1,  1,  1,  1,\n",
       "       -1, -1,  1,  1,  1,  1, -1, -1,  1, -1,  1,  1,  1,  1, -1, -1,  1,\n",
       "        1, -1,  1,  1, -1,  1, -1,  1, -1, -1,  1, -1,  1,  1, -1,  1,  1,\n",
       "       -1, -1, -1,  1,  1,  1, -1,  1, -1, -1,  1,  1, -1,  1, -1, -1, -1,\n",
       "        1, -1, -1,  1, -1, -1, -1,  1,  1,  1,  1, -1,  1,  1, -1, -1, -1,\n",
       "        1, -1,  1, -1,  1, -1, -1,  1, -1,  1, -1,  1, -1, -1, -1, -1, -1,\n",
       "       -1,  1, -1,  1, -1, -1,  1, -1, -1, -1, -1,  1, -1, -1,  1, -1, -1,\n",
       "       -1, -1,  1,  1, -1, -1, -1,  1, -1, -1, -1,  1,  1, -1, -1,  1,  1,\n",
       "       -1, -1,  1, -1, -1, -1, -1, -1,  1, -1, -1, -1, -1, -1,  1,  1, -1,\n",
       "       -1, -1,  1,  1,  1, -1, -1,  1, -1,  1,  1,  1, -1,  1])"
      ]
     },
     "execution_count": 495,
     "metadata": {},
     "output_type": "execute_result"
    }
   ],
   "source": [
    "steps = np.where(draws == 0, 1, -1)\n",
    "steps"
   ]
  },
  {
   "cell_type": "code",
   "execution_count": 497,
   "id": "b00fbca4-0fb7-4b37-9420-e01ea2bb55c4",
   "metadata": {},
   "outputs": [
    {
     "data": {
      "text/plain": [
       "array([ -1,  -2,  -3,  -4,  -5,  -4,  -5,  -4,  -5,  -6,  -7,  -6,  -7,\n",
       "        -8,  -7,  -8,  -9, -10,  -9,  -8,  -7,  -8,  -7,  -8,  -7,  -8,\n",
       "        -9,  -8,  -7,  -6,  -5,  -6,  -5,  -4,  -5,  -4,  -5,  -4,  -5,\n",
       "        -6,  -7,  -6,  -7,  -6,  -5,  -6,  -5,  -6,  -7,  -6,  -7,  -8,\n",
       "        -7,  -8,  -7,  -6,  -7,  -6,  -7,  -6,  -7,  -6,  -5,  -6,  -5,\n",
       "        -6,  -5,  -6,  -5,  -4,  -3,  -4,  -3,  -2,  -1,   0,  -1,   0,\n",
       "         1,   0,  -1,  -2,  -1,   0,   1,   2,   3,   4,   3,   4,   3,\n",
       "         4,   3,   2,   1,   0,   1,   2,   3,   2,   3,   2,   3,   4,\n",
       "         3,   4,   3,   2,   1,   2,   3,   2,   1,   0,   1,   2,   3,\n",
       "         2,   1,   0,   1,   2,   1,   0,  -1,   0,   1,   2,   1,   0,\n",
       "         1,   0,  -1,   0,   1,   0,  -1,  -2,  -3,  -2,  -3,  -4,  -5,\n",
       "        -6,  -7,  -6,  -5,  -4,  -5,  -4,  -3,  -2,  -3,  -4,  -5,  -4,\n",
       "        -5,  -6,  -7,  -8,  -7,  -6,  -7,  -6,  -5,  -4,  -3,  -4,  -5,\n",
       "        -6,  -7,  -6,  -5,  -4,  -3,  -2,  -3,  -4,  -3,  -2,  -3,  -2,\n",
       "        -1,   0,  -1,  -2,  -3,  -2,  -3,  -2,  -3,  -4,  -3,  -2,  -3,\n",
       "        -2,  -3,  -4,  -5,  -4,  -5,  -6,  -7,  -8,  -9, -10,  -9,  -8,\n",
       "        -7,  -6,  -7,  -8,  -7,  -6,  -7,  -8,  -7,  -6,  -7,  -8,  -9,\n",
       "       -10, -11, -12, -11, -10,  -9,  -8,  -9, -10,  -9, -10, -11, -12,\n",
       "       -13, -12, -13, -12, -13, -14, -13, -14, -13, -14, -13, -14, -15,\n",
       "       -16, -15, -16, -15, -16, -15, -14, -15, -14, -13, -12, -11, -12,\n",
       "       -13, -12, -13, -12, -11, -10,  -9,  -8,  -7,  -8,  -7,  -8,  -7,\n",
       "        -6,  -5,  -4,  -3,  -4,  -3,  -2,  -1,  -2,  -1,   0,  -1,  -2,\n",
       "        -1,   0,  -1,  -2,  -3,  -2,  -1,   0,  -1,  -2,  -1,   0,   1,\n",
       "         0,   1,   2,   3,   2,   1,   0,  -1,  -2,  -3,  -2,  -3,  -4,\n",
       "        -3,  -2,  -3,  -2,  -1,  -2,  -1,  -2,  -3,  -4,  -5,  -4,  -3,\n",
       "        -2,  -3,  -4,  -5,  -4,  -3,  -2,  -3,  -2,  -3,  -4,  -5,  -6,\n",
       "        -7,  -6,  -7,  -8,  -7,  -8,  -7,  -6,  -5,  -4,  -5,  -4,  -5,\n",
       "        -4,  -3,  -2,  -3,  -4,  -5,  -6,  -5,  -4,  -5,  -4,  -3,  -4,\n",
       "        -3,  -4,  -5,  -6,  -7,  -8,  -7,  -6,  -7,  -8,  -7,  -8,  -9,\n",
       "        -8,  -9,  -8,  -7,  -6,  -5,  -4,  -3,  -2,  -1,   0,  -1,  -2,\n",
       "        -3,  -4,  -5,  -6,  -7,  -8,  -7,  -8,  -9,  -8,  -9, -10, -11,\n",
       "       -12, -13, -14, -13, -12, -11, -12, -13, -14, -13, -14, -15, -14,\n",
       "       -15, -16, -15, -16, -15, -14, -13, -14, -13, -14, -15, -16, -17,\n",
       "       -18, -19, -18, -17, -18, -17, -16, -15, -14, -13, -12, -13, -12,\n",
       "       -13, -14, -13, -14, -15, -14, -15, -16, -15, -16, -15, -14, -13,\n",
       "       -12, -11, -10,  -9,  -8,  -9,  -8,  -7,  -6,  -5,  -4,  -5,  -4,\n",
       "        -3,  -4,  -5,  -4,  -5,  -4,  -3,  -2,  -1,  -2,  -1,   0,   1,\n",
       "         0,   1,   0,  -1,  -2,  -3,  -4,  -3,  -4,  -5,  -4,  -3,  -4,\n",
       "        -5,  -6,  -7,  -6,  -7,  -8,  -9,  -8,  -9,  -8,  -9, -10,  -9,\n",
       "       -10, -11, -10,  -9,  -8,  -9,  -8,  -7,  -6,  -7,  -6,  -5,  -4,\n",
       "        -5,  -4,  -3,  -4,  -3,  -4,  -3,  -4,  -5,  -6,  -7,  -8,  -9,\n",
       "       -10,  -9,  -8,  -9, -10,  -9,  -8,  -7,  -8,  -7,  -8,  -9, -10,\n",
       "        -9, -10,  -9,  -8,  -7,  -8,  -7,  -8,  -7,  -8,  -9,  -8,  -7,\n",
       "        -6,  -7,  -8,  -7,  -6,  -5,  -6,  -5,  -4,  -5,  -6,  -5,  -4,\n",
       "        -5,  -4,  -5,  -6,  -5,  -4,  -5,  -4,  -5,  -6,  -5,  -4,  -3,\n",
       "        -2,  -1,  -2,  -3,  -2,  -1,  -2,  -1,   0,  -1,  -2,  -1,   0,\n",
       "        -1,   0,  -1,  -2,  -1,  -2,  -1,  -2,  -3,  -2,  -1,   0,  -1,\n",
       "         0,  -1,   0,  -1,  -2,  -3,  -2,  -3,  -2,  -1,  -2,  -1,  -2,\n",
       "        -3,  -4,  -5,  -6,  -7,  -8,  -9, -10, -11, -10,  -9,  -8,  -9,\n",
       "       -10, -11, -10, -11, -12, -13, -12, -11, -12, -11, -10, -11, -12,\n",
       "       -11, -10, -11, -12, -11, -12, -13, -12, -13, -12, -11, -10,  -9,\n",
       "        -8,  -7,  -6,  -7,  -8,  -7,  -6,  -5,  -6,  -5,  -4,  -5,  -4,\n",
       "        -5,  -4,  -3,  -4,  -5,  -6,  -5,  -4,  -5,  -4,  -5,  -6,  -5,\n",
       "        -6,  -5,  -6,  -5,  -6,  -5,  -4,  -3,  -4,  -3,  -4,  -5,  -6,\n",
       "        -7,  -8,  -7,  -6,  -7,  -8,  -9,  -8,  -9, -10,  -9, -10, -11,\n",
       "       -12, -11, -10, -11, -12, -13, -14, -15, -16, -17, -18, -19, -18,\n",
       "       -17, -16, -17, -16, -15, -14, -15, -16, -15, -16, -17, -16, -17,\n",
       "       -16, -17, -16, -15, -14, -13, -14, -13, -12, -11, -12, -13, -14,\n",
       "       -15, -14, -13, -14, -15, -14, -13, -14, -15, -16, -17, -16, -15,\n",
       "       -16, -17, -16, -17, -18, -17, -18, -17, -18, -19, -18, -19, -20,\n",
       "       -19, -18, -19, -20, -19, -20, -19, -18, -17, -18, -17, -16, -17,\n",
       "       -18, -17, -18, -19, -18, -19, -20, -21, -20, -19, -20, -21, -20,\n",
       "       -19, -20, -19, -20, -21, -20, -21, -20, -19, -18, -17, -18, -17,\n",
       "       -18, -17, -18, -17, -16, -15, -14, -15, -14, -13, -12, -13, -14,\n",
       "       -15, -14, -13, -12, -11, -12, -11, -10,  -9,  -8,  -7,  -8,  -7,\n",
       "        -6,  -5,  -4,  -3,  -2,  -3,  -4,  -3,  -2,  -1,   0,  -1,  -2,\n",
       "        -1,  -2,  -1,   0,   1,   2,   1,   0,   1,   2,   1,   2,   3,\n",
       "         2,   3,   2,   3,   2,   1,   2,   1,   2,   3,   2,   3,   4,\n",
       "         3,   2,   1,   2,   3,   4,   3,   4,   3,   2,   3,   4,   3,\n",
       "         4,   3,   2,   1,   2,   1,   0,   1,   0,  -1,  -2,  -1,   0,\n",
       "         1,   2,   1,   2,   3,   2,   1,   0,   1,   0,   1,   0,   1,\n",
       "         0,  -1,   0,  -1,   0,  -1,   0,  -1,  -2,  -3,  -4,  -5,  -6,\n",
       "        -5,  -6,  -5,  -6,  -7,  -6,  -7,  -8,  -9, -10,  -9, -10, -11,\n",
       "       -10, -11, -12, -13, -14, -13, -12, -13, -14, -15, -14, -15, -16,\n",
       "       -17, -16, -15, -16, -17, -16, -15, -16, -17, -16, -17, -18, -19,\n",
       "       -20, -21, -20, -21, -22, -23, -24, -25, -24, -23, -24, -25, -26,\n",
       "       -25, -24, -23, -24, -25, -24, -25, -24, -23, -22, -23, -22])"
      ]
     },
     "execution_count": 497,
     "metadata": {},
     "output_type": "execute_result"
    }
   ],
   "source": [
    "walk = steps.cumsum()\n",
    "walk"
   ]
  },
  {
   "cell_type": "code",
   "execution_count": 499,
   "id": "6f31329d-1b78-48fc-86a1-3091abea7cc3",
   "metadata": {},
   "outputs": [
    {
     "data": {
      "text/plain": [
       "-26"
      ]
     },
     "execution_count": 499,
     "metadata": {},
     "output_type": "execute_result"
    }
   ],
   "source": [
    "walk.min()"
   ]
  },
  {
   "cell_type": "code",
   "execution_count": 501,
   "id": "f72a0dec-71cd-41b4-8f99-d62a8392482a",
   "metadata": {},
   "outputs": [
    {
     "data": {
      "text/plain": [
       "4"
      ]
     },
     "execution_count": 501,
     "metadata": {},
     "output_type": "execute_result"
    }
   ],
   "source": [
    "walk.max()"
   ]
  },
  {
   "cell_type": "code",
   "execution_count": null,
   "id": "4615587a-03c9-47ac-8a18-0a5633b1a611",
   "metadata": {},
   "outputs": [],
   "source": []
  }
 ],
 "metadata": {
  "kernelspec": {
   "display_name": "Python 3 (ipykernel)",
   "language": "python",
   "name": "python3"
  },
  "language_info": {
   "codemirror_mode": {
    "name": "ipython",
    "version": 3
   },
   "file_extension": ".py",
   "mimetype": "text/x-python",
   "name": "python",
   "nbconvert_exporter": "python",
   "pygments_lexer": "ipython3",
   "version": "3.12.4"
  },
  "panel-cell-order": [
   "48eab40d-1784-42b0-9495-c137f6091df4",
   "79789e54-117f-4bac-939e-a7d70e09db80",
   "a1e1eabc-51ba-41df-b1ee-b8e75b8d4c7f",
   "3f54b6ea-4566-4674-b242-abacd1f9ef99",
   "46278c12-a5ac-4361-b1b5-60b50d507b0f",
   "21ff6821-cde7-4e22-8de6-6d33a382c3c9",
   "7bba1a26-caa6-4588-9ebf-bf5a1b7691a7",
   "f455e9a0-f913-46ea-a958-74ca3a0f6079",
   "eaef4911-2df1-45c9-b176-205478a5c841",
   "4db8e1c5-1b26-44c6-8ea7-ad6ce634ee93",
   "beda084a-65f5-4185-9b3f-16bf47a75d0c",
   "302b6868-03da-4eff-b7f4-5cdbc00df00a",
   "34d6e8b7-0f32-41ab-bd96-a9e347661f52",
   "789b5a86-507b-473b-b365-1374b484eea4",
   "ab49f147-5fdf-4375-9c31-5768ced89d25",
   "ecc76063-54d1-48f8-a636-e8a0adbe61bd",
   "86f12c84-7533-4a58-9da6-3f73d1b209c3",
   "f9476b2b-0f79-4356-8392-d8225bd0f8ed",
   "66f91cad-4de3-41ea-8522-545d35477dc0"
  ]
 },
 "nbformat": 4,
 "nbformat_minor": 5
}

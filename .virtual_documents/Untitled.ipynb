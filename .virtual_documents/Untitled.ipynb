import numpy as np





my_arr = np.arange(1_000_000)
my_arr


my_list = list(range(1_000_000))
my_list[:10]





%timeit my_arr2 = my_arr * 2


%timeit my_list2 = my_list * 2





data = np.array([[1.5, -0.2, 3], [0, -3, 6.5]])
data


data * 10


data + data


data.shape


data.dtype





data1 = [6, 7.5, 8, 0, 1]
print(data1)
print(type(data1))


arr1 = np.array(data1)
print(type(arr1))
arr1


data2 = [[1, 2, 3, 4], [5, 6, 7, 8]]
arr2 = np.array(data2)
arr2


arr2.ndim


arr2.shape


arr1.dtype


arr1.dtype


prueba = np.array([1, 2, "hola", 3.4])
print(prueba.dtype)
prueba


np.zeros(10)


np.zeros((3, 6))


np.ones((2, 3, 5))


np.empty((2, 3, 2))


np.arange(15)


np.ones_like(arr2)


np.full((2, 3), fill_value = 10)


np.eye(10)


np.identity(5)





arr1 = np.array([1, 2, 3], dtype = np.float64)
arr1.dtype


arr2 = np.array([1, 2, 3], dtype = np.int32)
arr2.dtype








arr = np.array([1, 2, 3, 4, 5])
arr.dtype


float_arr = arr.astype(np.float64)
float_arr


float_arr.dtype


arr_float = np.array([3.7, -1.2, -2.6, 0.5, 12.9, 10.2])
arr_float


arr_float.astype(np.int32)





numeric_strings = np.array(["1.25", "-9.6", "42"], dtype = np.string_)
numeric_strings


numeric_strings.astype(float)





arr = np.array([[1, 2, 3], [4, 5, 6]])
arr


arr * arr


arr - arr


1 / arr


arr ** 2 


arr2 = np.array([[0, 4, 1], [7, 2, 12]])
arr2


arr2 > arr1





arr = np.arange(10)
arr


arr[5]


arr[5:8]


arr[5:8] = 12
arr





arr_slice = arr[5:8]
arr_slice


arr_slice[1] = 12345
arr


arr_slice[:] = 64
arr





arr_copy = arr[5:8].copy()
arr_copy


arr_copy[1] = 10
arr_copy


arr





arr2d = np.array([[1, 2, 3], [4, 5, 6], [7, 8, 9]])
arr2d


arr2d[2]


arr2d[0][2]


arr2d[0, 2]


arr3d = np.array([[[1, 2, 3], [4, 5, 6]], [[7, 8, 9], [10, 11, 12]]])
arr3d


arr3d[0]


old_values = arr3d[0].copy()
arr3d[0] = 42


arr3d


arr3d[0] = old_values
arr3d


arr3d[1, 0]


x = arr3d[1]
x


x[0]






